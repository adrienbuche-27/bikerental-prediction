{
 "cells": [
  {
   "cell_type": "markdown",
   "metadata": {},
   "source": [
    "We have 3 different datasets:\n",
    "1. **Station**:\n",
    "2. **Trip**:\n",
    "3. **Weather**:"
   ]
  },
  {
   "cell_type": "code",
   "execution_count": 96,
   "metadata": {
    "ExecuteTime": {
     "end_time": "2020-11-02T15:12:09.361370Z",
     "start_time": "2020-11-02T15:12:09.299868Z"
    }
   },
   "outputs": [
    {
     "data": {
      "text/html": [
       "        <script type=\"text/javascript\">\n",
       "        window.PlotlyConfig = {MathJaxConfig: 'local'};\n",
       "        if (window.MathJax) {MathJax.Hub.Config({SVG: {font: \"STIX-Web\"}});}\n",
       "        if (typeof require !== 'undefined') {\n",
       "        require.undef(\"plotly\");\n",
       "        requirejs.config({\n",
       "            paths: {\n",
       "                'plotly': ['https://cdn.plot.ly/plotly-latest.min']\n",
       "            }\n",
       "        });\n",
       "        require(['plotly'], function(Plotly) {\n",
       "            window._Plotly = Plotly;\n",
       "        });\n",
       "        }\n",
       "        </script>\n",
       "        "
      ]
     },
     "metadata": {},
     "output_type": "display_data"
    }
   ],
   "source": [
    "import pandas as pd\n",
    "import numpy as np\n",
    "from datetime import datetime\n",
    "\n",
    "from math import sin, cos, sqrt, atan2, radians\n",
    "from scipy.spatial.distance import pdist\n",
    "\n",
    "import plotly\n",
    "import chart_studio.plotly as py\n",
    "import plotly.express as px\n",
    "from plotly import graph_objs as go\n",
    "import plotly.offline as offline\n",
    "offline.init_notebook_mode(connected=True)\n",
    "\n",
    "from helpers.helpers_data import *\n",
    "from helpers.helpers_func import *\n",
    "from helpers.tokens import *"
   ]
  },
  {
   "cell_type": "markdown",
   "metadata": {},
   "source": [
    "# Station"
   ]
  },
  {
   "cell_type": "code",
   "execution_count": 114,
   "metadata": {
    "ExecuteTime": {
     "end_time": "2020-11-02T15:23:21.555212Z",
     "start_time": "2020-11-02T15:23:21.547746Z"
    }
   },
   "outputs": [
    {
     "data": {
      "text/plain": [
       "(76, 5)"
      ]
     },
     "execution_count": 114,
     "metadata": {},
     "output_type": "execute_result"
    }
   ],
   "source": [
    "station = pd.read_csv(\"data/station_data.csv\", index_col = 0)\n",
    "station.shape"
   ]
  },
  {
   "cell_type": "code",
   "execution_count": 88,
   "metadata": {
    "ExecuteTime": {
     "end_time": "2020-11-02T15:06:23.721358Z",
     "start_time": "2020-11-02T15:06:23.715045Z"
    }
   },
   "outputs": [
    {
     "data": {
      "text/plain": [
       "{85: 23, 86: 25, 87: 49, 88: 69, 89: 72, 90: 72}"
      ]
     },
     "execution_count": 88,
     "metadata": {},
     "output_type": "execute_result"
    }
   ],
   "source": [
    "{85: 23, 87: 49, 88: 69, 89: 72, 90: 72}"
   ]
  },
  {
   "cell_type": "code",
   "execution_count": 115,
   "metadata": {
    "ExecuteTime": {
     "end_time": "2020-11-02T15:23:35.225239Z",
     "start_time": "2020-11-02T15:23:35.214627Z"
    }
   },
   "outputs": [
    {
     "data": {
      "text/html": [
       "<div>\n",
       "<style scoped>\n",
       "    .dataframe tbody tr th:only-of-type {\n",
       "        vertical-align: middle;\n",
       "    }\n",
       "\n",
       "    .dataframe tbody tr th {\n",
       "        vertical-align: top;\n",
       "    }\n",
       "\n",
       "    .dataframe thead th {\n",
       "        text-align: right;\n",
       "    }\n",
       "</style>\n",
       "<table border=\"1\" class=\"dataframe\">\n",
       "  <thead>\n",
       "    <tr style=\"text-align: right;\">\n",
       "      <th></th>\n",
       "      <th>Name</th>\n",
       "      <th>Lat</th>\n",
       "      <th>Long</th>\n",
       "      <th>Dock Count</th>\n",
       "      <th>City</th>\n",
       "    </tr>\n",
       "    <tr>\n",
       "      <th>Id</th>\n",
       "      <th></th>\n",
       "      <th></th>\n",
       "      <th></th>\n",
       "      <th></th>\n",
       "      <th></th>\n",
       "    </tr>\n",
       "  </thead>\n",
       "  <tbody>\n",
       "    <tr>\n",
       "      <th>2</th>\n",
       "      <td>San Jose Diridon Caltrain Station</td>\n",
       "      <td>37.329732</td>\n",
       "      <td>-121.901782</td>\n",
       "      <td>27</td>\n",
       "      <td>San Jose</td>\n",
       "    </tr>\n",
       "    <tr>\n",
       "      <th>3</th>\n",
       "      <td>San Jose Civic Center</td>\n",
       "      <td>37.330698</td>\n",
       "      <td>-121.888979</td>\n",
       "      <td>15</td>\n",
       "      <td>San Jose</td>\n",
       "    </tr>\n",
       "    <tr>\n",
       "      <th>4</th>\n",
       "      <td>Santa Clara at Almaden</td>\n",
       "      <td>37.333988</td>\n",
       "      <td>-121.894902</td>\n",
       "      <td>11</td>\n",
       "      <td>San Jose</td>\n",
       "    </tr>\n",
       "    <tr>\n",
       "      <th>5</th>\n",
       "      <td>Adobe on Almaden</td>\n",
       "      <td>37.331415</td>\n",
       "      <td>-121.893200</td>\n",
       "      <td>19</td>\n",
       "      <td>San Jose</td>\n",
       "    </tr>\n",
       "    <tr>\n",
       "      <th>6</th>\n",
       "      <td>San Pedro Square</td>\n",
       "      <td>37.336721</td>\n",
       "      <td>-121.894074</td>\n",
       "      <td>15</td>\n",
       "      <td>San Jose</td>\n",
       "    </tr>\n",
       "  </tbody>\n",
       "</table>\n",
       "</div>"
      ],
      "text/plain": [
       "                                 Name        Lat        Long  Dock Count  \\\n",
       "Id                                                                         \n",
       "2   San Jose Diridon Caltrain Station  37.329732 -121.901782          27   \n",
       "3               San Jose Civic Center  37.330698 -121.888979          15   \n",
       "4              Santa Clara at Almaden  37.333988 -121.894902          11   \n",
       "5                    Adobe on Almaden  37.331415 -121.893200          19   \n",
       "6                    San Pedro Square  37.336721 -121.894074          15   \n",
       "\n",
       "        City  \n",
       "Id            \n",
       "2   San Jose  \n",
       "3   San Jose  \n",
       "4   San Jose  \n",
       "5   San Jose  \n",
       "6   San Jose  "
      ]
     },
     "execution_count": 115,
     "metadata": {},
     "output_type": "execute_result"
    }
   ],
   "source": [
    "station = station.drop_duplicates(\"Name\")\n",
    "all_stations_index = station.index\n",
    "station.head()"
   ]
  },
  {
   "cell_type": "code",
   "execution_count": 116,
   "metadata": {
    "ExecuteTime": {
     "end_time": "2020-11-02T15:23:38.785490Z",
     "start_time": "2020-11-02T15:23:38.783287Z"
    }
   },
   "outputs": [],
   "source": [
    "# station.tail(50)"
   ]
  },
  {
   "cell_type": "code",
   "execution_count": 117,
   "metadata": {
    "ExecuteTime": {
     "end_time": "2020-11-02T15:23:40.452225Z",
     "start_time": "2020-11-02T15:23:40.445025Z"
    }
   },
   "outputs": [
    {
     "data": {
      "text/plain": [
       "Int64Index([ 2,  3,  4,  5,  6,  7,  8,  9, 10, 11, 12, 13, 14, 16, 21, 22, 23,\n",
       "            24, 25, 86, 26, 27, 28, 29, 30, 31, 32, 33, 34, 35, 36, 37, 38, 41,\n",
       "            42, 45, 46, 47, 48, 49, 50, 51, 39, 54, 55, 56, 57, 58, 59, 60, 61,\n",
       "            62, 63, 64, 65, 66, 67, 68, 69, 70, 71, 72, 73, 74, 75, 76, 77, 80,\n",
       "            82, 83, 84],\n",
       "           dtype='int64', name='Id')"
      ]
     },
     "execution_count": 117,
     "metadata": {},
     "output_type": "execute_result"
    }
   ],
   "source": [
    "all_stations_index"
   ]
  },
  {
   "cell_type": "code",
   "execution_count": 118,
   "metadata": {
    "ExecuteTime": {
     "end_time": "2020-11-02T15:23:40.797522Z",
     "start_time": "2020-11-02T15:23:40.786314Z"
    }
   },
   "outputs": [
    {
     "data": {
      "text/html": [
       "<div>\n",
       "<style scoped>\n",
       "    .dataframe tbody tr th:only-of-type {\n",
       "        vertical-align: middle;\n",
       "    }\n",
       "\n",
       "    .dataframe tbody tr th {\n",
       "        vertical-align: top;\n",
       "    }\n",
       "\n",
       "    .dataframe thead th {\n",
       "        text-align: right;\n",
       "    }\n",
       "</style>\n",
       "<table border=\"1\" class=\"dataframe\">\n",
       "  <thead>\n",
       "    <tr style=\"text-align: right;\">\n",
       "      <th></th>\n",
       "      <th>Name</th>\n",
       "      <th>Lat</th>\n",
       "      <th>Long</th>\n",
       "      <th>Dock Count</th>\n",
       "      <th>City</th>\n",
       "    </tr>\n",
       "    <tr>\n",
       "      <th>Id</th>\n",
       "      <th></th>\n",
       "      <th></th>\n",
       "      <th></th>\n",
       "      <th></th>\n",
       "      <th></th>\n",
       "    </tr>\n",
       "  </thead>\n",
       "  <tbody>\n",
       "    <tr>\n",
       "      <th>34</th>\n",
       "      <td>Palo Alto Caltrain Station</td>\n",
       "      <td>37.443988</td>\n",
       "      <td>-122.164759</td>\n",
       "      <td>23</td>\n",
       "      <td>Palo Alto</td>\n",
       "    </tr>\n",
       "    <tr>\n",
       "      <th>35</th>\n",
       "      <td>University and Emerson</td>\n",
       "      <td>37.444521</td>\n",
       "      <td>-122.163093</td>\n",
       "      <td>11</td>\n",
       "      <td>Palo Alto</td>\n",
       "    </tr>\n",
       "    <tr>\n",
       "      <th>36</th>\n",
       "      <td>California Ave Caltrain Station</td>\n",
       "      <td>37.429082</td>\n",
       "      <td>-122.142805</td>\n",
       "      <td>15</td>\n",
       "      <td>Palo Alto</td>\n",
       "    </tr>\n",
       "    <tr>\n",
       "      <th>37</th>\n",
       "      <td>Cowper at University</td>\n",
       "      <td>37.448598</td>\n",
       "      <td>-122.159504</td>\n",
       "      <td>11</td>\n",
       "      <td>Palo Alto</td>\n",
       "    </tr>\n",
       "    <tr>\n",
       "      <th>38</th>\n",
       "      <td>Park at Olive</td>\n",
       "      <td>37.425684</td>\n",
       "      <td>-122.137777</td>\n",
       "      <td>15</td>\n",
       "      <td>Palo Alto</td>\n",
       "    </tr>\n",
       "  </tbody>\n",
       "</table>\n",
       "</div>"
      ],
      "text/plain": [
       "                               Name        Lat        Long  Dock Count  \\\n",
       "Id                                                                       \n",
       "34       Palo Alto Caltrain Station  37.443988 -122.164759          23   \n",
       "35           University and Emerson  37.444521 -122.163093          11   \n",
       "36  California Ave Caltrain Station  37.429082 -122.142805          15   \n",
       "37             Cowper at University  37.448598 -122.159504          11   \n",
       "38                    Park at Olive  37.425684 -122.137777          15   \n",
       "\n",
       "         City  \n",
       "Id             \n",
       "34  Palo Alto  \n",
       "35  Palo Alto  \n",
       "36  Palo Alto  \n",
       "37  Palo Alto  \n",
       "38  Palo Alto  "
      ]
     },
     "execution_count": 118,
     "metadata": {},
     "output_type": "execute_result"
    }
   ],
   "source": [
    "station[station[\"City\"] == \"Palo Alto\"]"
   ]
  },
  {
   "cell_type": "code",
   "execution_count": 119,
   "metadata": {
    "ExecuteTime": {
     "end_time": "2020-11-02T15:23:47.934263Z",
     "start_time": "2020-11-02T15:23:47.926596Z"
    }
   },
   "outputs": [
    {
     "data": {
      "text/plain": [
       "Name          0\n",
       "Lat           0\n",
       "Long          0\n",
       "Dock Count    0\n",
       "City          0\n",
       "dtype: int64"
      ]
     },
     "execution_count": 119,
     "metadata": {},
     "output_type": "execute_result"
    }
   ],
   "source": [
    "# Sanity Check\n",
    "station.isnull().sum()"
   ]
  },
  {
   "cell_type": "code",
   "execution_count": 120,
   "metadata": {
    "ExecuteTime": {
     "end_time": "2020-11-02T15:23:48.147937Z",
     "start_time": "2020-11-02T15:23:48.139289Z"
    }
   },
   "outputs": [],
   "source": [
    "summary_station = pd.DataFrame()\n",
    "summary_station[\"Count\"] = station.groupby(\"City\")[\"Name\"].count()\n",
    "summary_station[\"Total Docking Station\"] = station.groupby(\"City\")[\"Dock Count\"].sum()"
   ]
  },
  {
   "cell_type": "code",
   "execution_count": 121,
   "metadata": {
    "ExecuteTime": {
     "end_time": "2020-11-02T15:23:48.548960Z",
     "start_time": "2020-11-02T15:23:48.541460Z"
    }
   },
   "outputs": [
    {
     "data": {
      "text/html": [
       "<div>\n",
       "<style scoped>\n",
       "    .dataframe tbody tr th:only-of-type {\n",
       "        vertical-align: middle;\n",
       "    }\n",
       "\n",
       "    .dataframe tbody tr th {\n",
       "        vertical-align: top;\n",
       "    }\n",
       "\n",
       "    .dataframe thead th {\n",
       "        text-align: right;\n",
       "    }\n",
       "</style>\n",
       "<table border=\"1\" class=\"dataframe\">\n",
       "  <thead>\n",
       "    <tr style=\"text-align: right;\">\n",
       "      <th></th>\n",
       "      <th>Count</th>\n",
       "      <th>Total Docking Station</th>\n",
       "    </tr>\n",
       "    <tr>\n",
       "      <th>City</th>\n",
       "      <th></th>\n",
       "      <th></th>\n",
       "    </tr>\n",
       "  </thead>\n",
       "  <tbody>\n",
       "    <tr>\n",
       "      <th>Mountain View</th>\n",
       "      <td>7</td>\n",
       "      <td>117</td>\n",
       "    </tr>\n",
       "    <tr>\n",
       "      <th>Palo Alto</th>\n",
       "      <td>5</td>\n",
       "      <td>75</td>\n",
       "    </tr>\n",
       "    <tr>\n",
       "      <th>Redwood City</th>\n",
       "      <td>8</td>\n",
       "      <td>130</td>\n",
       "    </tr>\n",
       "    <tr>\n",
       "      <th>San Francisco</th>\n",
       "      <td>35</td>\n",
       "      <td>665</td>\n",
       "    </tr>\n",
       "    <tr>\n",
       "      <th>San Jose</th>\n",
       "      <td>16</td>\n",
       "      <td>264</td>\n",
       "    </tr>\n",
       "  </tbody>\n",
       "</table>\n",
       "</div>"
      ],
      "text/plain": [
       "               Count  Total Docking Station\n",
       "City                                       \n",
       "Mountain View      7                    117\n",
       "Palo Alto          5                     75\n",
       "Redwood City       8                    130\n",
       "San Francisco     35                    665\n",
       "San Jose          16                    264"
      ]
     },
     "execution_count": 121,
     "metadata": {},
     "output_type": "execute_result"
    }
   ],
   "source": [
    "summary_station"
   ]
  },
  {
   "cell_type": "markdown",
   "metadata": {},
   "source": [
    "## Distances"
   ]
  },
  {
   "cell_type": "code",
   "execution_count": 122,
   "metadata": {
    "ExecuteTime": {
     "end_time": "2020-11-02T15:23:49.365034Z",
     "start_time": "2020-11-02T15:23:49.359833Z"
    }
   },
   "outputs": [
    {
     "data": {
      "text/plain": [
       "['Mountain View', 'Palo Alto', 'Redwood City', 'San Francisco', 'San Jose']"
      ]
     },
     "execution_count": 122,
     "metadata": {},
     "output_type": "execute_result"
    }
   ],
   "source": [
    "cities"
   ]
  },
  {
   "cell_type": "code",
   "execution_count": 123,
   "metadata": {
    "ExecuteTime": {
     "end_time": "2020-11-02T15:23:49.645774Z",
     "start_time": "2020-11-02T15:23:49.640764Z"
    }
   },
   "outputs": [],
   "source": [
    "def diff(arr1, arr2):\n",
    "    res = np.empty((len(arr1), len(arr2)))\n",
    "    for i,x in enumerate(arr1):\n",
    "        for j,y in enumerate(arr2):\n",
    "            res[i,j] = y-x\n",
    "            \n",
    "    return res"
   ]
  },
  {
   "cell_type": "code",
   "execution_count": 124,
   "metadata": {
    "ExecuteTime": {
     "end_time": "2020-11-02T15:23:50.084288Z",
     "start_time": "2020-11-02T15:23:50.076962Z"
    }
   },
   "outputs": [],
   "source": [
    "def get_city_distance(df, flag):\n",
    "    # approximate radius of earth in km\n",
    "    R = 6373.0\n",
    "    \n",
    "    if flag == 'stations':\n",
    "        index_df = df.index\n",
    "        avg = np.radians(df[['Long', 'Lat']].to_numpy())\n",
    "    else: # flag == 'cities'\n",
    "        index_df = cities\n",
    "        avg = np.radians(df.groupby(\"City\")[['Long', 'Lat']].mean()).to_numpy()\n",
    "    \n",
    "    dlon = diff(avg[:,0], avg[:,0])\n",
    "    dlat = diff(avg[:,1], avg[:,1])\n",
    "\n",
    "    a =  np.sin(dlat / 2)**2 + np.cos(avg[:,1]) * np.cos(avg[:,1]) * np.sin(dlon / 2)**2\n",
    "    c = 2 * np.arctan2(np.sqrt(a), np.sqrt(1 - a))\n",
    "\n",
    "    distance = R * c\n",
    "\n",
    "    return pd.DataFrame(distance, index=index_df, columns=index_df)\n"
   ]
  },
  {
   "cell_type": "code",
   "execution_count": 125,
   "metadata": {
    "ExecuteTime": {
     "end_time": "2020-11-02T15:23:51.570689Z",
     "start_time": "2020-11-02T15:23:51.556743Z"
    }
   },
   "outputs": [
    {
     "data": {
      "text/html": [
       "<div>\n",
       "<style scoped>\n",
       "    .dataframe tbody tr th:only-of-type {\n",
       "        vertical-align: middle;\n",
       "    }\n",
       "\n",
       "    .dataframe tbody tr th {\n",
       "        vertical-align: top;\n",
       "    }\n",
       "\n",
       "    .dataframe thead th {\n",
       "        text-align: right;\n",
       "    }\n",
       "</style>\n",
       "<table border=\"1\" class=\"dataframe\">\n",
       "  <thead>\n",
       "    <tr style=\"text-align: right;\">\n",
       "      <th></th>\n",
       "      <th>Mountain View</th>\n",
       "      <th>Palo Alto</th>\n",
       "      <th>Redwood City</th>\n",
       "      <th>San Francisco</th>\n",
       "      <th>San Jose</th>\n",
       "    </tr>\n",
       "  </thead>\n",
       "  <tbody>\n",
       "    <tr>\n",
       "      <th>Mountain View</th>\n",
       "      <td>0.000000</td>\n",
       "      <td>7.445874</td>\n",
       "      <td>15.759707</td>\n",
       "      <td>51.569743</td>\n",
       "      <td>18.647388</td>\n",
       "    </tr>\n",
       "    <tr>\n",
       "      <th>Palo Alto</th>\n",
       "      <td>7.448386</td>\n",
       "      <td>0.000000</td>\n",
       "      <td>8.316640</td>\n",
       "      <td>44.552001</td>\n",
       "      <td>25.795830</td>\n",
       "    </tr>\n",
       "    <tr>\n",
       "      <th>Redwood City</th>\n",
       "      <td>15.770971</td>\n",
       "      <td>8.319778</td>\n",
       "      <td>0.000000</td>\n",
       "      <td>36.899949</td>\n",
       "      <td>33.938050</td>\n",
       "    </tr>\n",
       "    <tr>\n",
       "      <th>San Francisco</th>\n",
       "      <td>51.647263</td>\n",
       "      <td>44.602306</td>\n",
       "      <td>36.926287</td>\n",
       "      <td>0.000000</td>\n",
       "      <td>67.480554</td>\n",
       "    </tr>\n",
       "    <tr>\n",
       "      <th>San Jose</th>\n",
       "      <td>18.634557</td>\n",
       "      <td>25.767553</td>\n",
       "      <td>33.886575</td>\n",
       "      <td>67.298834</td>\n",
       "      <td>0.000000</td>\n",
       "    </tr>\n",
       "  </tbody>\n",
       "</table>\n",
       "</div>"
      ],
      "text/plain": [
       "               Mountain View  Palo Alto  Redwood City  San Francisco  \\\n",
       "Mountain View       0.000000   7.445874     15.759707      51.569743   \n",
       "Palo Alto           7.448386   0.000000      8.316640      44.552001   \n",
       "Redwood City       15.770971   8.319778      0.000000      36.899949   \n",
       "San Francisco      51.647263  44.602306     36.926287       0.000000   \n",
       "San Jose           18.634557  25.767553     33.886575      67.298834   \n",
       "\n",
       "                San Jose  \n",
       "Mountain View  18.647388  \n",
       "Palo Alto      25.795830  \n",
       "Redwood City   33.938050  \n",
       "San Francisco  67.480554  \n",
       "San Jose        0.000000  "
      ]
     },
     "execution_count": 125,
     "metadata": {},
     "output_type": "execute_result"
    }
   ],
   "source": [
    "distances_cities = get_city_distance(station, 'cities')\n",
    "distances_cities"
   ]
  },
  {
   "cell_type": "code",
   "execution_count": 126,
   "metadata": {
    "ExecuteTime": {
     "end_time": "2020-11-02T15:23:57.079437Z",
     "start_time": "2020-11-02T15:23:57.053241Z"
    }
   },
   "outputs": [
    {
     "data": {
      "text/html": [
       "<div>\n",
       "<style scoped>\n",
       "    .dataframe tbody tr th:only-of-type {\n",
       "        vertical-align: middle;\n",
       "    }\n",
       "\n",
       "    .dataframe tbody tr th {\n",
       "        vertical-align: top;\n",
       "    }\n",
       "\n",
       "    .dataframe thead th {\n",
       "        text-align: right;\n",
       "    }\n",
       "</style>\n",
       "<table border=\"1\" class=\"dataframe\">\n",
       "  <thead>\n",
       "    <tr style=\"text-align: right;\">\n",
       "      <th>Id</th>\n",
       "      <th>2</th>\n",
       "      <th>3</th>\n",
       "      <th>4</th>\n",
       "      <th>5</th>\n",
       "      <th>6</th>\n",
       "      <th>7</th>\n",
       "      <th>8</th>\n",
       "      <th>9</th>\n",
       "      <th>10</th>\n",
       "      <th>11</th>\n",
       "      <th>...</th>\n",
       "      <th>72</th>\n",
       "      <th>73</th>\n",
       "      <th>74</th>\n",
       "      <th>75</th>\n",
       "      <th>76</th>\n",
       "      <th>77</th>\n",
       "      <th>80</th>\n",
       "      <th>82</th>\n",
       "      <th>83</th>\n",
       "      <th>84</th>\n",
       "    </tr>\n",
       "    <tr>\n",
       "      <th>Id</th>\n",
       "      <th></th>\n",
       "      <th></th>\n",
       "      <th></th>\n",
       "      <th></th>\n",
       "      <th></th>\n",
       "      <th></th>\n",
       "      <th></th>\n",
       "      <th></th>\n",
       "      <th></th>\n",
       "      <th></th>\n",
       "      <th></th>\n",
       "      <th></th>\n",
       "      <th></th>\n",
       "      <th></th>\n",
       "      <th></th>\n",
       "      <th></th>\n",
       "      <th></th>\n",
       "      <th></th>\n",
       "      <th></th>\n",
       "      <th></th>\n",
       "      <th></th>\n",
       "    </tr>\n",
       "  </thead>\n",
       "  <tbody>\n",
       "    <tr>\n",
       "      <th>2</th>\n",
       "      <td>0.000000</td>\n",
       "      <td>1.137438</td>\n",
       "      <td>0.770933</td>\n",
       "      <td>0.781765</td>\n",
       "      <td>1.033928</td>\n",
       "      <td>1.388112</td>\n",
       "      <td>1.411606</td>\n",
       "      <td>2.204882</td>\n",
       "      <td>1.560721</td>\n",
       "      <td>1.581551</td>\n",
       "      <td>...</td>\n",
       "      <td>67.316293</td>\n",
       "      <td>68.502363</td>\n",
       "      <td>67.404864</td>\n",
       "      <td>67.426613</td>\n",
       "      <td>67.346820</td>\n",
       "      <td>67.386108</td>\n",
       "      <td>2.567591</td>\n",
       "      <td>68.141483</td>\n",
       "      <td>34.555668</td>\n",
       "      <td>1.544617</td>\n",
       "    </tr>\n",
       "    <tr>\n",
       "      <th>3</th>\n",
       "      <td>1.137453</td>\n",
       "      <td>0.000000</td>\n",
       "      <td>0.638997</td>\n",
       "      <td>0.381743</td>\n",
       "      <td>0.807369</td>\n",
       "      <td>0.388998</td>\n",
       "      <td>0.284666</td>\n",
       "      <td>2.070126</td>\n",
       "      <td>0.764858</td>\n",
       "      <td>0.647324</td>\n",
       "      <td>...</td>\n",
       "      <td>67.993703</td>\n",
       "      <td>69.156541</td>\n",
       "      <td>68.051830</td>\n",
       "      <td>68.080635</td>\n",
       "      <td>68.011192</td>\n",
       "      <td>68.043406</td>\n",
       "      <td>2.851286</td>\n",
       "      <td>68.789913</td>\n",
       "      <td>35.471472</td>\n",
       "      <td>1.460881</td>\n",
       "    </tr>\n",
       "    <tr>\n",
       "      <th>4</th>\n",
       "      <td>0.770960</td>\n",
       "      <td>0.639016</td>\n",
       "      <td>0.000000</td>\n",
       "      <td>0.323368</td>\n",
       "      <td>0.312686</td>\n",
       "      <td>0.704216</td>\n",
       "      <td>0.908009</td>\n",
       "      <td>1.641168</td>\n",
       "      <td>0.795140</td>\n",
       "      <td>0.844142</td>\n",
       "      <td>...</td>\n",
       "      <td>67.371910</td>\n",
       "      <td>68.538468</td>\n",
       "      <td>67.434929</td>\n",
       "      <td>67.462552</td>\n",
       "      <td>67.391425</td>\n",
       "      <td>67.424782</td>\n",
       "      <td>2.281084</td>\n",
       "      <td>68.172789</td>\n",
       "      <td>34.835618</td>\n",
       "      <td>0.973870</td>\n",
       "    </tr>\n",
       "    <tr>\n",
       "      <th>5</th>\n",
       "      <td>0.781782</td>\n",
       "      <td>0.381747</td>\n",
       "      <td>0.323365</td>\n",
       "      <td>0.000000</td>\n",
       "      <td>0.595225</td>\n",
       "      <td>0.613579</td>\n",
       "      <td>0.666416</td>\n",
       "      <td>1.931929</td>\n",
       "      <td>0.861953</td>\n",
       "      <td>0.831781</td>\n",
       "      <td>...</td>\n",
       "      <td>67.684013</td>\n",
       "      <td>68.852550</td>\n",
       "      <td>67.749593</td>\n",
       "      <td>67.776658</td>\n",
       "      <td>67.704674</td>\n",
       "      <td>67.738622</td>\n",
       "      <td>2.604066</td>\n",
       "      <td>68.487331</td>\n",
       "      <td>35.109661</td>\n",
       "      <td>1.276037</td>\n",
       "    </tr>\n",
       "    <tr>\n",
       "      <th>6</th>\n",
       "      <td>1.033970</td>\n",
       "      <td>0.807389</td>\n",
       "      <td>0.312687</td>\n",
       "      <td>0.595226</td>\n",
       "      <td>0.000000</td>\n",
       "      <td>0.709543</td>\n",
       "      <td>1.031155</td>\n",
       "      <td>1.338295</td>\n",
       "      <td>0.630461</td>\n",
       "      <td>0.749906</td>\n",
       "      <td>...</td>\n",
       "      <td>67.197586</td>\n",
       "      <td>68.357579</td>\n",
       "      <td>67.252063</td>\n",
       "      <td>67.281631</td>\n",
       "      <td>67.213395</td>\n",
       "      <td>67.244771</td>\n",
       "      <td>2.045144</td>\n",
       "      <td>67.990317</td>\n",
       "      <td>34.747438</td>\n",
       "      <td>0.681621</td>\n",
       "    </tr>\n",
       "    <tr>\n",
       "      <th>...</th>\n",
       "      <td>...</td>\n",
       "      <td>...</td>\n",
       "      <td>...</td>\n",
       "      <td>...</td>\n",
       "      <td>...</td>\n",
       "      <td>...</td>\n",
       "      <td>...</td>\n",
       "      <td>...</td>\n",
       "      <td>...</td>\n",
       "      <td>...</td>\n",
       "      <td>...</td>\n",
       "      <td>...</td>\n",
       "      <td>...</td>\n",
       "      <td>...</td>\n",
       "      <td>...</td>\n",
       "      <td>...</td>\n",
       "      <td>...</td>\n",
       "      <td>...</td>\n",
       "      <td>...</td>\n",
       "      <td>...</td>\n",
       "      <td>...</td>\n",
       "    </tr>\n",
       "    <tr>\n",
       "      <th>77</th>\n",
       "      <td>67.563218</td>\n",
       "      <td>68.227526</td>\n",
       "      <td>67.605021</td>\n",
       "      <td>67.920252</td>\n",
       "      <td>67.424999</td>\n",
       "      <td>68.088739</td>\n",
       "      <td>68.457039</td>\n",
       "      <td>66.388871</td>\n",
       "      <td>67.787127</td>\n",
       "      <td>67.991190</td>\n",
       "      <td>...</td>\n",
       "      <td>1.481882</td>\n",
       "      <td>1.139784</td>\n",
       "      <td>0.752508</td>\n",
       "      <td>0.242166</td>\n",
       "      <td>0.519398</td>\n",
       "      <td>0.000000</td>\n",
       "      <td>65.415005</td>\n",
       "      <td>0.991735</td>\n",
       "      <td>36.225473</td>\n",
       "      <td>66.833820</td>\n",
       "    </tr>\n",
       "    <tr>\n",
       "      <th>80</th>\n",
       "      <td>2.567606</td>\n",
       "      <td>2.851511</td>\n",
       "      <td>2.281183</td>\n",
       "      <td>2.604199</td>\n",
       "      <td>2.045254</td>\n",
       "      <td>2.671284</td>\n",
       "      <td>3.053882</td>\n",
       "      <td>1.064611</td>\n",
       "      <td>2.368176</td>\n",
       "      <td>2.570694</td>\n",
       "      <td>...</td>\n",
       "      <td>65.206290</td>\n",
       "      <td>66.355350</td>\n",
       "      <td>65.246711</td>\n",
       "      <td>65.279308</td>\n",
       "      <td>65.215760</td>\n",
       "      <td>65.243899</td>\n",
       "      <td>0.000000</td>\n",
       "      <td>65.985601</td>\n",
       "      <td>32.995325</td>\n",
       "      <td>1.416669</td>\n",
       "    </tr>\n",
       "    <tr>\n",
       "      <th>82</th>\n",
       "      <td>68.320070</td>\n",
       "      <td>68.975620</td>\n",
       "      <td>68.354583</td>\n",
       "      <td>68.670516</td>\n",
       "      <td>68.172122</td>\n",
       "      <td>68.833384</td>\n",
       "      <td>69.203519</td>\n",
       "      <td>67.127768</td>\n",
       "      <td>68.529266</td>\n",
       "      <td>68.733550</td>\n",
       "      <td>...</td>\n",
       "      <td>2.283612</td>\n",
       "      <td>0.561009</td>\n",
       "      <td>0.747636</td>\n",
       "      <td>0.820996</td>\n",
       "      <td>1.408010</td>\n",
       "      <td>0.991735</td>\n",
       "      <td>66.158278</td>\n",
       "      <td>0.000000</td>\n",
       "      <td>37.137881</td>\n",
       "      <td>67.577669</td>\n",
       "    </tr>\n",
       "    <tr>\n",
       "      <th>83</th>\n",
       "      <td>34.610111</td>\n",
       "      <td>35.528306</td>\n",
       "      <td>34.890388</td>\n",
       "      <td>35.165443</td>\n",
       "      <td>34.801656</td>\n",
       "      <td>35.511648</td>\n",
       "      <td>35.799094</td>\n",
       "      <td>34.106497</td>\n",
       "      <td>35.310924</td>\n",
       "      <td>35.496042</td>\n",
       "      <td>...</td>\n",
       "      <td>35.710196</td>\n",
       "      <td>37.334810</td>\n",
       "      <td>36.445116</td>\n",
       "      <td>36.311654</td>\n",
       "      <td>36.013106</td>\n",
       "      <td>36.202171</td>\n",
       "      <td>33.043130</td>\n",
       "      <td>37.114457</td>\n",
       "      <td>0.000000</td>\n",
       "      <td>34.354855</td>\n",
       "    </tr>\n",
       "    <tr>\n",
       "      <th>84</th>\n",
       "      <td>1.544650</td>\n",
       "      <td>1.460919</td>\n",
       "      <td>0.973870</td>\n",
       "      <td>1.276042</td>\n",
       "      <td>0.681623</td>\n",
       "      <td>1.254767</td>\n",
       "      <td>1.643432</td>\n",
       "      <td>0.674006</td>\n",
       "      <td>0.966131</td>\n",
       "      <td>1.163724</td>\n",
       "      <td>...</td>\n",
       "      <td>66.616039</td>\n",
       "      <td>67.767117</td>\n",
       "      <td>66.658973</td>\n",
       "      <td>66.691133</td>\n",
       "      <td>66.626791</td>\n",
       "      <td>66.655495</td>\n",
       "      <td>1.416595</td>\n",
       "      <td>67.397745</td>\n",
       "      <td>34.302540</td>\n",
       "      <td>0.000000</td>\n",
       "    </tr>\n",
       "  </tbody>\n",
       "</table>\n",
       "<p>71 rows × 71 columns</p>\n",
       "</div>"
      ],
      "text/plain": [
       "Id         2          3          4          5          6          7   \\\n",
       "Id                                                                     \n",
       "2    0.000000   1.137438   0.770933   0.781765   1.033928   1.388112   \n",
       "3    1.137453   0.000000   0.638997   0.381743   0.807369   0.388998   \n",
       "4    0.770960   0.639016   0.000000   0.323368   0.312686   0.704216   \n",
       "5    0.781782   0.381747   0.323365   0.000000   0.595225   0.613579   \n",
       "6    1.033970   0.807389   0.312687   0.595226   0.000000   0.709543   \n",
       "..        ...        ...        ...        ...        ...        ...   \n",
       "77  67.563218  68.227526  67.605021  67.920252  67.424999  68.088739   \n",
       "80   2.567606   2.851511   2.281183   2.604199   2.045254   2.671284   \n",
       "82  68.320070  68.975620  68.354583  68.670516  68.172122  68.833384   \n",
       "83  34.610111  35.528306  34.890388  35.165443  34.801656  35.511648   \n",
       "84   1.544650   1.460919   0.973870   1.276042   0.681623   1.254767   \n",
       "\n",
       "Id         8          9          10         11  ...         72         73  \\\n",
       "Id                                              ...                         \n",
       "2    1.411606   2.204882   1.560721   1.581551  ...  67.316293  68.502363   \n",
       "3    0.284666   2.070126   0.764858   0.647324  ...  67.993703  69.156541   \n",
       "4    0.908009   1.641168   0.795140   0.844142  ...  67.371910  68.538468   \n",
       "5    0.666416   1.931929   0.861953   0.831781  ...  67.684013  68.852550   \n",
       "6    1.031155   1.338295   0.630461   0.749906  ...  67.197586  68.357579   \n",
       "..        ...        ...        ...        ...  ...        ...        ...   \n",
       "77  68.457039  66.388871  67.787127  67.991190  ...   1.481882   1.139784   \n",
       "80   3.053882   1.064611   2.368176   2.570694  ...  65.206290  66.355350   \n",
       "82  69.203519  67.127768  68.529266  68.733550  ...   2.283612   0.561009   \n",
       "83  35.799094  34.106497  35.310924  35.496042  ...  35.710196  37.334810   \n",
       "84   1.643432   0.674006   0.966131   1.163724  ...  66.616039  67.767117   \n",
       "\n",
       "Id         74         75         76         77         80         82  \\\n",
       "Id                                                                     \n",
       "2   67.404864  67.426613  67.346820  67.386108   2.567591  68.141483   \n",
       "3   68.051830  68.080635  68.011192  68.043406   2.851286  68.789913   \n",
       "4   67.434929  67.462552  67.391425  67.424782   2.281084  68.172789   \n",
       "5   67.749593  67.776658  67.704674  67.738622   2.604066  68.487331   \n",
       "6   67.252063  67.281631  67.213395  67.244771   2.045144  67.990317   \n",
       "..        ...        ...        ...        ...        ...        ...   \n",
       "77   0.752508   0.242166   0.519398   0.000000  65.415005   0.991735   \n",
       "80  65.246711  65.279308  65.215760  65.243899   0.000000  65.985601   \n",
       "82   0.747636   0.820996   1.408010   0.991735  66.158278   0.000000   \n",
       "83  36.445116  36.311654  36.013106  36.202171  33.043130  37.114457   \n",
       "84  66.658973  66.691133  66.626791  66.655495   1.416595  67.397745   \n",
       "\n",
       "Id         83         84  \n",
       "Id                        \n",
       "2   34.555668   1.544617  \n",
       "3   35.471472   1.460881  \n",
       "4   34.835618   0.973870  \n",
       "5   35.109661   1.276037  \n",
       "6   34.747438   0.681621  \n",
       "..        ...        ...  \n",
       "77  36.225473  66.833820  \n",
       "80  32.995325   1.416669  \n",
       "82  37.137881  67.577669  \n",
       "83   0.000000  34.354855  \n",
       "84  34.302540   0.000000  \n",
       "\n",
       "[71 rows x 71 columns]"
      ]
     },
     "execution_count": 126,
     "metadata": {},
     "output_type": "execute_result"
    }
   ],
   "source": [
    "distances_stations = get_city_distance(station, 'stations')\n",
    "distances_stations"
   ]
  },
  {
   "cell_type": "code",
   "execution_count": 127,
   "metadata": {
    "ExecuteTime": {
     "end_time": "2020-11-02T15:23:59.033869Z",
     "start_time": "2020-11-02T15:23:59.028639Z"
    }
   },
   "outputs": [],
   "source": [
    "def get_top_k_nearest_stations(df, k):\n",
    "    \n",
    "    data=df.columns.values[np.argsort(df.values, axis=1)]\n",
    "    cols = [\"#{}\".format(n) for n in np.arange(1, k+1)]\n",
    "    \n",
    "    return pd.DataFrame(data[:, 1:k+1], index= df.index, columns=cols)"
   ]
  },
  {
   "cell_type": "code",
   "execution_count": 128,
   "metadata": {
    "ExecuteTime": {
     "end_time": "2020-11-02T15:23:59.544076Z",
     "start_time": "2020-11-02T15:23:59.531569Z"
    }
   },
   "outputs": [
    {
     "data": {
      "text/html": [
       "<div>\n",
       "<style scoped>\n",
       "    .dataframe tbody tr th:only-of-type {\n",
       "        vertical-align: middle;\n",
       "    }\n",
       "\n",
       "    .dataframe tbody tr th {\n",
       "        vertical-align: top;\n",
       "    }\n",
       "\n",
       "    .dataframe thead th {\n",
       "        text-align: right;\n",
       "    }\n",
       "</style>\n",
       "<table border=\"1\" class=\"dataframe\">\n",
       "  <thead>\n",
       "    <tr style=\"text-align: right;\">\n",
       "      <th></th>\n",
       "      <th>#1</th>\n",
       "      <th>#2</th>\n",
       "      <th>#3</th>\n",
       "      <th>#4</th>\n",
       "      <th>#5</th>\n",
       "    </tr>\n",
       "    <tr>\n",
       "      <th>Id</th>\n",
       "      <th></th>\n",
       "      <th></th>\n",
       "      <th></th>\n",
       "      <th></th>\n",
       "      <th></th>\n",
       "    </tr>\n",
       "  </thead>\n",
       "  <tbody>\n",
       "    <tr>\n",
       "      <th>2</th>\n",
       "      <td>14</td>\n",
       "      <td>4</td>\n",
       "      <td>5</td>\n",
       "      <td>6</td>\n",
       "      <td>3</td>\n",
       "    </tr>\n",
       "    <tr>\n",
       "      <th>3</th>\n",
       "      <td>8</td>\n",
       "      <td>5</td>\n",
       "      <td>7</td>\n",
       "      <td>12</td>\n",
       "      <td>4</td>\n",
       "    </tr>\n",
       "    <tr>\n",
       "      <th>4</th>\n",
       "      <td>6</td>\n",
       "      <td>5</td>\n",
       "      <td>14</td>\n",
       "      <td>3</td>\n",
       "      <td>7</td>\n",
       "    </tr>\n",
       "    <tr>\n",
       "      <th>5</th>\n",
       "      <td>4</td>\n",
       "      <td>3</td>\n",
       "      <td>6</td>\n",
       "      <td>7</td>\n",
       "      <td>14</td>\n",
       "    </tr>\n",
       "    <tr>\n",
       "      <th>6</th>\n",
       "      <td>4</td>\n",
       "      <td>13</td>\n",
       "      <td>5</td>\n",
       "      <td>10</td>\n",
       "      <td>84</td>\n",
       "    </tr>\n",
       "    <tr>\n",
       "      <th>...</th>\n",
       "      <td>...</td>\n",
       "      <td>...</td>\n",
       "      <td>...</td>\n",
       "      <td>...</td>\n",
       "      <td>...</td>\n",
       "    </tr>\n",
       "    <tr>\n",
       "      <th>77</th>\n",
       "      <td>75</td>\n",
       "      <td>47</td>\n",
       "      <td>63</td>\n",
       "      <td>56</td>\n",
       "      <td>76</td>\n",
       "    </tr>\n",
       "    <tr>\n",
       "      <th>80</th>\n",
       "      <td>9</td>\n",
       "      <td>84</td>\n",
       "      <td>13</td>\n",
       "      <td>6</td>\n",
       "      <td>14</td>\n",
       "    </tr>\n",
       "    <tr>\n",
       "      <th>82</th>\n",
       "      <td>42</td>\n",
       "      <td>48</td>\n",
       "      <td>41</td>\n",
       "      <td>46</td>\n",
       "      <td>45</td>\n",
       "    </tr>\n",
       "    <tr>\n",
       "      <th>83</th>\n",
       "      <td>23</td>\n",
       "      <td>22</td>\n",
       "      <td>25</td>\n",
       "      <td>24</td>\n",
       "      <td>26</td>\n",
       "    </tr>\n",
       "    <tr>\n",
       "      <th>84</th>\n",
       "      <td>13</td>\n",
       "      <td>9</td>\n",
       "      <td>6</td>\n",
       "      <td>10</td>\n",
       "      <td>4</td>\n",
       "    </tr>\n",
       "  </tbody>\n",
       "</table>\n",
       "<p>71 rows × 5 columns</p>\n",
       "</div>"
      ],
      "text/plain": [
       "    #1  #2  #3  #4  #5\n",
       "Id                    \n",
       "2   14   4   5   6   3\n",
       "3    8   5   7  12   4\n",
       "4    6   5  14   3   7\n",
       "5    4   3   6   7  14\n",
       "6    4  13   5  10  84\n",
       "..  ..  ..  ..  ..  ..\n",
       "77  75  47  63  56  76\n",
       "80   9  84  13   6  14\n",
       "82  42  48  41  46  45\n",
       "83  23  22  25  24  26\n",
       "84  13   9   6  10   4\n",
       "\n",
       "[71 rows x 5 columns]"
      ]
     },
     "execution_count": 128,
     "metadata": {},
     "output_type": "execute_result"
    }
   ],
   "source": [
    "get_top_k_nearest_stations(distances_stations, 5)"
   ]
  },
  {
   "cell_type": "markdown",
   "metadata": {},
   "source": [
    "## GeoMapping of the Stations"
   ]
  },
  {
   "cell_type": "code",
   "execution_count": 129,
   "metadata": {
    "ExecuteTime": {
     "end_time": "2020-11-02T15:24:05.413859Z",
     "start_time": "2020-11-02T15:24:05.401613Z"
    }
   },
   "outputs": [],
   "source": [
    "def get_scatterbox(df, city, colors):\n",
    "    tmp = go.Scattermapbox(\n",
    "                lat=df['Lat'],\n",
    "                lon=df['Long'],\n",
    "                mode='markers+text',\n",
    "                marker=dict(\n",
    "                    size=10,\n",
    "                    color=colors[city],\n",
    "                ),\n",
    "\n",
    "                textfont=dict(\n",
    "                    size=9\n",
    "                ),\n",
    "                textposition=\"bottom center\",\n",
    "                text=list(df.index),\n",
    "                name=city\n",
    "            )\n",
    "    return tmp\n",
    "\n",
    "def plot_stations(df, specific_cities):\n",
    "    mapbox_access_token = map_token\n",
    "    \n",
    "    data = []\n",
    "    if specific_cities == \"All\":\n",
    "        lat = np.mean(df['Lat'])\n",
    "        long = np.mean(df['Long'])\n",
    "    else:\n",
    "        lat = []\n",
    "        long = []\n",
    "        \n",
    "    df_groups = df.groupby(\"City\")\n",
    "    for group in df_groups:\n",
    "        sub_df = group[1]\n",
    "        if isinstance(specific_cities, list):\n",
    "            if group[0] in specific_cities:\n",
    "                tmp = get_scatterbox(sub_df, group[0], colors)\n",
    "                lat += sub_df['Lat'].to_list()\n",
    "                long += sub_df['Long'].to_list()\n",
    "                data.append(tmp)\n",
    "        else:\n",
    "            tmp = get_scatterbox(sub_df, group[0], colors)\n",
    "            data.append(tmp)\n",
    "        \n",
    "    layout = go.Layout(\n",
    "        hovermode='closest',\n",
    "        mapbox=dict(\n",
    "            accesstoken=mapbox_access_token,\n",
    "            bearing=0,\n",
    "            center=dict(\n",
    "                lat=np.mean(lat),\n",
    "                lon=np.mean(long)\n",
    "            ),\n",
    "            pitch=0,\n",
    "            zoom=9\n",
    "        ),\n",
    "        title='Stations locations within the 5 Areas',\n",
    "        autosize=False,\n",
    "        width=900,\n",
    "        height=800,\n",
    "        margin=go.layout.Margin(\n",
    "            l=100,\n",
    "            r=100,\n",
    "            b=100,\n",
    "            t=100,\n",
    "            pad=4\n",
    "        ),\n",
    "        showlegend=True,\n",
    "        legend = dict(orientation=\"h\")\n",
    "    )\n",
    "\n",
    "    fig = dict(data=data, layout=layout)\n",
    "\n",
    "    offline.iplot(fig)"
   ]
  },
  {
   "cell_type": "code",
   "execution_count": 130,
   "metadata": {
    "ExecuteTime": {
     "end_time": "2020-11-02T15:24:06.103932Z",
     "start_time": "2020-11-02T15:24:06.059552Z"
    }
   },
   "outputs": [
    {
     "data": {
      "application/vnd.plotly.v1+json": {
       "config": {
        "linkText": "Export to plot.ly",
        "plotlyServerURL": "https://plot.ly",
        "showLink": false
       },
       "data": [
        {
         "lat": [
          37.389218,
          37.394358000000004,
          37.406940000000006,
          37.390277000000005,
          37.400443,
          37.385956,
          37.400240999999994
         ],
         "lon": [
          -122.081896,
          -122.07671299999998,
          -122.10675800000001,
          -122.066553,
          -122.10833799999999,
          -122.083678,
          -122.099076
         ],
         "marker": {
          "color": "#2ca02c",
          "size": 10
         },
         "mode": "markers+text",
         "name": "Mountain View",
         "text": [
          "27",
          "28",
          "29",
          "30",
          "31",
          "32",
          "33"
         ],
         "textfont": {
          "size": 9
         },
         "textposition": "bottom center",
         "type": "scattermapbox"
        },
        {
         "lat": [
          37.443988,
          37.444521,
          37.429082,
          37.448598,
          37.425683899999996
         ],
         "lon": [
          -122.164759,
          -122.16309299999999,
          -122.14280500000001,
          -122.159504,
          -122.13777749999998
         ],
         "marker": {
          "color": "#d62728",
          "size": 10
         },
         "mode": "markers+text",
         "name": "Palo Alto",
         "text": [
          "34",
          "35",
          "36",
          "37",
          "38"
         ],
         "textfont": {
          "size": 9
         },
         "textposition": "bottom center",
         "type": "scattermapbox"
        },
        {
         "lat": [
          37.481758,
          37.486078000000006,
          37.488501,
          37.484219,
          37.486725,
          37.48537,
          37.487682,
          37.491269
         ],
         "lon": [
          -122.226904,
          -122.23208899999999,
          -122.23106100000001,
          -122.227424,
          -122.225551,
          -122.20328799999999,
          -122.223492,
          -122.23623400000001
         ],
         "marker": {
          "color": "#ff7f0e",
          "size": 10
         },
         "mode": "markers+text",
         "name": "Redwood City",
         "text": [
          "21",
          "22",
          "23",
          "24",
          "25",
          "86",
          "26",
          "83"
         ],
         "textfont": {
          "size": 9
         },
         "textposition": "bottom center",
         "type": "scattermapbox"
        },
        {
         "lat": [
          37.795001,
          37.79728,
          37.794230999999996,
          37.795425,
          37.788975,
          37.799953,
          37.789625,
          37.795392,
          37.791464000000005,
          37.783871000000005,
          37.787152,
          37.789756,
          37.792251,
          37.781752000000004,
          37.77865,
          37.781332,
          37.80477,
          37.780526,
          37.785299,
          37.786978000000005,
          37.782259,
          37.771058000000004,
          37.774814,
          37.776619000000004,
          37.784878000000006,
          37.776377000000004,
          37.776617,
          37.788446,
          37.780356,
          37.798522,
          37.794139,
          37.7913,
          37.786305,
          37.789625,
          37.798541
         ],
         "lon": [
          -122.39997,
          -122.398436,
          -122.402923,
          -122.40476699999999,
          -122.403452,
          -122.398525,
          -122.39026399999999,
          -122.394203,
          -122.391034,
          -122.408433,
          -122.38801299999999,
          -122.39464299999999,
          -122.39708600000002,
          -122.40512700000001,
          -122.41823500000001,
          -122.418603,
          -122.40323400000001,
          -122.39028799999998,
          -122.39623600000002,
          -122.39810800000001,
          -122.392738,
          -122.402717,
          -122.418954,
          -122.41738500000001,
          -122.40101399999999,
          -122.39607,
          -122.39526000000001,
          -122.408499,
          -122.41291899999999,
          -122.40724499999999,
          -122.394434,
          -122.399051,
          -122.40496599999999,
          -122.400811,
          -122.40086200000002
         ],
         "marker": {
          "color": "#9467bd",
          "size": 10
         },
         "mode": "markers+text",
         "name": "San Francisco",
         "text": [
          "41",
          "42",
          "45",
          "46",
          "47",
          "48",
          "49",
          "50",
          "51",
          "39",
          "54",
          "55",
          "56",
          "57",
          "58",
          "59",
          "60",
          "61",
          "62",
          "63",
          "64",
          "65",
          "66",
          "67",
          "68",
          "69",
          "70",
          "71",
          "72",
          "73",
          "74",
          "75",
          "76",
          "77",
          "82"
         ],
         "textfont": {
          "size": 9
         },
         "textposition": "bottom center",
         "type": "scattermapbox"
        },
        {
         "lat": [
          37.329732,
          37.330698,
          37.333988,
          37.331415,
          37.336721000000004,
          37.333798,
          37.330165,
          37.348742,
          37.337391,
          37.335885,
          37.332808,
          37.339301,
          37.332692,
          37.333954999999996,
          37.352601,
          37.342725
         ],
         "lon": [
          -121.90178200000001,
          -121.888979,
          -121.894902,
          -121.8932,
          -121.894074,
          -121.88694299999999,
          -121.88583100000001,
          -121.89471499999999,
          -121.886995,
          -121.88566000000002,
          -121.88389099999999,
          -121.88993700000002,
          -121.900084,
          -121.877349,
          -121.90573300000001,
          -121.89561699999999
         ],
         "marker": {
          "color": "#1f77b4",
          "size": 10
         },
         "mode": "markers+text",
         "name": "San Jose",
         "text": [
          "2",
          "3",
          "4",
          "5",
          "6",
          "7",
          "8",
          "9",
          "10",
          "11",
          "12",
          "13",
          "14",
          "16",
          "80",
          "84"
         ],
         "textfont": {
          "size": 9
         },
         "textposition": "bottom center",
         "type": "scattermapbox"
        }
       ],
       "layout": {
        "autosize": false,
        "height": 800,
        "hovermode": "closest",
        "legend": {
         "orientation": "h"
        },
        "mapbox": {
         "accesstoken": "pk.eyJ1IjoiYWRyaWVuYnVjaGUiLCJhIjoiY2pycWF1YTIzMWlyYzQ0bnRqdWhxend0ZiJ9.1GYr2MFuCWbECzG3CS7sHg",
         "bearing": 0,
         "center": {
          "lat": 37.58877554788733,
          "lon": -122.21855197887328
         },
         "pitch": 0,
         "zoom": 9
        },
        "margin": {
         "b": 100,
         "l": 100,
         "pad": 4,
         "r": 100,
         "t": 100
        },
        "showlegend": true,
        "template": {
         "data": {
          "bar": [
           {
            "error_x": {
             "color": "#2a3f5f"
            },
            "error_y": {
             "color": "#2a3f5f"
            },
            "marker": {
             "line": {
              "color": "#E5ECF6",
              "width": 0.5
             }
            },
            "type": "bar"
           }
          ],
          "barpolar": [
           {
            "marker": {
             "line": {
              "color": "#E5ECF6",
              "width": 0.5
             }
            },
            "type": "barpolar"
           }
          ],
          "carpet": [
           {
            "aaxis": {
             "endlinecolor": "#2a3f5f",
             "gridcolor": "white",
             "linecolor": "white",
             "minorgridcolor": "white",
             "startlinecolor": "#2a3f5f"
            },
            "baxis": {
             "endlinecolor": "#2a3f5f",
             "gridcolor": "white",
             "linecolor": "white",
             "minorgridcolor": "white",
             "startlinecolor": "#2a3f5f"
            },
            "type": "carpet"
           }
          ],
          "choropleth": [
           {
            "colorbar": {
             "outlinewidth": 0,
             "ticks": ""
            },
            "type": "choropleth"
           }
          ],
          "contour": [
           {
            "colorbar": {
             "outlinewidth": 0,
             "ticks": ""
            },
            "colorscale": [
             [
              0,
              "#0d0887"
             ],
             [
              0.1111111111111111,
              "#46039f"
             ],
             [
              0.2222222222222222,
              "#7201a8"
             ],
             [
              0.3333333333333333,
              "#9c179e"
             ],
             [
              0.4444444444444444,
              "#bd3786"
             ],
             [
              0.5555555555555556,
              "#d8576b"
             ],
             [
              0.6666666666666666,
              "#ed7953"
             ],
             [
              0.7777777777777778,
              "#fb9f3a"
             ],
             [
              0.8888888888888888,
              "#fdca26"
             ],
             [
              1,
              "#f0f921"
             ]
            ],
            "type": "contour"
           }
          ],
          "contourcarpet": [
           {
            "colorbar": {
             "outlinewidth": 0,
             "ticks": ""
            },
            "type": "contourcarpet"
           }
          ],
          "heatmap": [
           {
            "colorbar": {
             "outlinewidth": 0,
             "ticks": ""
            },
            "colorscale": [
             [
              0,
              "#0d0887"
             ],
             [
              0.1111111111111111,
              "#46039f"
             ],
             [
              0.2222222222222222,
              "#7201a8"
             ],
             [
              0.3333333333333333,
              "#9c179e"
             ],
             [
              0.4444444444444444,
              "#bd3786"
             ],
             [
              0.5555555555555556,
              "#d8576b"
             ],
             [
              0.6666666666666666,
              "#ed7953"
             ],
             [
              0.7777777777777778,
              "#fb9f3a"
             ],
             [
              0.8888888888888888,
              "#fdca26"
             ],
             [
              1,
              "#f0f921"
             ]
            ],
            "type": "heatmap"
           }
          ],
          "heatmapgl": [
           {
            "colorbar": {
             "outlinewidth": 0,
             "ticks": ""
            },
            "colorscale": [
             [
              0,
              "#0d0887"
             ],
             [
              0.1111111111111111,
              "#46039f"
             ],
             [
              0.2222222222222222,
              "#7201a8"
             ],
             [
              0.3333333333333333,
              "#9c179e"
             ],
             [
              0.4444444444444444,
              "#bd3786"
             ],
             [
              0.5555555555555556,
              "#d8576b"
             ],
             [
              0.6666666666666666,
              "#ed7953"
             ],
             [
              0.7777777777777778,
              "#fb9f3a"
             ],
             [
              0.8888888888888888,
              "#fdca26"
             ],
             [
              1,
              "#f0f921"
             ]
            ],
            "type": "heatmapgl"
           }
          ],
          "histogram": [
           {
            "marker": {
             "colorbar": {
              "outlinewidth": 0,
              "ticks": ""
             }
            },
            "type": "histogram"
           }
          ],
          "histogram2d": [
           {
            "colorbar": {
             "outlinewidth": 0,
             "ticks": ""
            },
            "colorscale": [
             [
              0,
              "#0d0887"
             ],
             [
              0.1111111111111111,
              "#46039f"
             ],
             [
              0.2222222222222222,
              "#7201a8"
             ],
             [
              0.3333333333333333,
              "#9c179e"
             ],
             [
              0.4444444444444444,
              "#bd3786"
             ],
             [
              0.5555555555555556,
              "#d8576b"
             ],
             [
              0.6666666666666666,
              "#ed7953"
             ],
             [
              0.7777777777777778,
              "#fb9f3a"
             ],
             [
              0.8888888888888888,
              "#fdca26"
             ],
             [
              1,
              "#f0f921"
             ]
            ],
            "type": "histogram2d"
           }
          ],
          "histogram2dcontour": [
           {
            "colorbar": {
             "outlinewidth": 0,
             "ticks": ""
            },
            "colorscale": [
             [
              0,
              "#0d0887"
             ],
             [
              0.1111111111111111,
              "#46039f"
             ],
             [
              0.2222222222222222,
              "#7201a8"
             ],
             [
              0.3333333333333333,
              "#9c179e"
             ],
             [
              0.4444444444444444,
              "#bd3786"
             ],
             [
              0.5555555555555556,
              "#d8576b"
             ],
             [
              0.6666666666666666,
              "#ed7953"
             ],
             [
              0.7777777777777778,
              "#fb9f3a"
             ],
             [
              0.8888888888888888,
              "#fdca26"
             ],
             [
              1,
              "#f0f921"
             ]
            ],
            "type": "histogram2dcontour"
           }
          ],
          "mesh3d": [
           {
            "colorbar": {
             "outlinewidth": 0,
             "ticks": ""
            },
            "type": "mesh3d"
           }
          ],
          "parcoords": [
           {
            "line": {
             "colorbar": {
              "outlinewidth": 0,
              "ticks": ""
             }
            },
            "type": "parcoords"
           }
          ],
          "pie": [
           {
            "automargin": true,
            "type": "pie"
           }
          ],
          "scatter": [
           {
            "marker": {
             "colorbar": {
              "outlinewidth": 0,
              "ticks": ""
             }
            },
            "type": "scatter"
           }
          ],
          "scatter3d": [
           {
            "line": {
             "colorbar": {
              "outlinewidth": 0,
              "ticks": ""
             }
            },
            "marker": {
             "colorbar": {
              "outlinewidth": 0,
              "ticks": ""
             }
            },
            "type": "scatter3d"
           }
          ],
          "scattercarpet": [
           {
            "marker": {
             "colorbar": {
              "outlinewidth": 0,
              "ticks": ""
             }
            },
            "type": "scattercarpet"
           }
          ],
          "scattergeo": [
           {
            "marker": {
             "colorbar": {
              "outlinewidth": 0,
              "ticks": ""
             }
            },
            "type": "scattergeo"
           }
          ],
          "scattergl": [
           {
            "marker": {
             "colorbar": {
              "outlinewidth": 0,
              "ticks": ""
             }
            },
            "type": "scattergl"
           }
          ],
          "scattermapbox": [
           {
            "marker": {
             "colorbar": {
              "outlinewidth": 0,
              "ticks": ""
             }
            },
            "type": "scattermapbox"
           }
          ],
          "scatterpolar": [
           {
            "marker": {
             "colorbar": {
              "outlinewidth": 0,
              "ticks": ""
             }
            },
            "type": "scatterpolar"
           }
          ],
          "scatterpolargl": [
           {
            "marker": {
             "colorbar": {
              "outlinewidth": 0,
              "ticks": ""
             }
            },
            "type": "scatterpolargl"
           }
          ],
          "scatterternary": [
           {
            "marker": {
             "colorbar": {
              "outlinewidth": 0,
              "ticks": ""
             }
            },
            "type": "scatterternary"
           }
          ],
          "surface": [
           {
            "colorbar": {
             "outlinewidth": 0,
             "ticks": ""
            },
            "colorscale": [
             [
              0,
              "#0d0887"
             ],
             [
              0.1111111111111111,
              "#46039f"
             ],
             [
              0.2222222222222222,
              "#7201a8"
             ],
             [
              0.3333333333333333,
              "#9c179e"
             ],
             [
              0.4444444444444444,
              "#bd3786"
             ],
             [
              0.5555555555555556,
              "#d8576b"
             ],
             [
              0.6666666666666666,
              "#ed7953"
             ],
             [
              0.7777777777777778,
              "#fb9f3a"
             ],
             [
              0.8888888888888888,
              "#fdca26"
             ],
             [
              1,
              "#f0f921"
             ]
            ],
            "type": "surface"
           }
          ],
          "table": [
           {
            "cells": {
             "fill": {
              "color": "#EBF0F8"
             },
             "line": {
              "color": "white"
             }
            },
            "header": {
             "fill": {
              "color": "#C8D4E3"
             },
             "line": {
              "color": "white"
             }
            },
            "type": "table"
           }
          ]
         },
         "layout": {
          "annotationdefaults": {
           "arrowcolor": "#2a3f5f",
           "arrowhead": 0,
           "arrowwidth": 1
          },
          "coloraxis": {
           "colorbar": {
            "outlinewidth": 0,
            "ticks": ""
           }
          },
          "colorscale": {
           "diverging": [
            [
             0,
             "#8e0152"
            ],
            [
             0.1,
             "#c51b7d"
            ],
            [
             0.2,
             "#de77ae"
            ],
            [
             0.3,
             "#f1b6da"
            ],
            [
             0.4,
             "#fde0ef"
            ],
            [
             0.5,
             "#f7f7f7"
            ],
            [
             0.6,
             "#e6f5d0"
            ],
            [
             0.7,
             "#b8e186"
            ],
            [
             0.8,
             "#7fbc41"
            ],
            [
             0.9,
             "#4d9221"
            ],
            [
             1,
             "#276419"
            ]
           ],
           "sequential": [
            [
             0,
             "#0d0887"
            ],
            [
             0.1111111111111111,
             "#46039f"
            ],
            [
             0.2222222222222222,
             "#7201a8"
            ],
            [
             0.3333333333333333,
             "#9c179e"
            ],
            [
             0.4444444444444444,
             "#bd3786"
            ],
            [
             0.5555555555555556,
             "#d8576b"
            ],
            [
             0.6666666666666666,
             "#ed7953"
            ],
            [
             0.7777777777777778,
             "#fb9f3a"
            ],
            [
             0.8888888888888888,
             "#fdca26"
            ],
            [
             1,
             "#f0f921"
            ]
           ],
           "sequentialminus": [
            [
             0,
             "#0d0887"
            ],
            [
             0.1111111111111111,
             "#46039f"
            ],
            [
             0.2222222222222222,
             "#7201a8"
            ],
            [
             0.3333333333333333,
             "#9c179e"
            ],
            [
             0.4444444444444444,
             "#bd3786"
            ],
            [
             0.5555555555555556,
             "#d8576b"
            ],
            [
             0.6666666666666666,
             "#ed7953"
            ],
            [
             0.7777777777777778,
             "#fb9f3a"
            ],
            [
             0.8888888888888888,
             "#fdca26"
            ],
            [
             1,
             "#f0f921"
            ]
           ]
          },
          "colorway": [
           "#636efa",
           "#EF553B",
           "#00cc96",
           "#ab63fa",
           "#FFA15A",
           "#19d3f3",
           "#FF6692",
           "#B6E880",
           "#FF97FF",
           "#FECB52"
          ],
          "font": {
           "color": "#2a3f5f"
          },
          "geo": {
           "bgcolor": "white",
           "lakecolor": "white",
           "landcolor": "#E5ECF6",
           "showlakes": true,
           "showland": true,
           "subunitcolor": "white"
          },
          "hoverlabel": {
           "align": "left"
          },
          "hovermode": "closest",
          "mapbox": {
           "style": "light"
          },
          "paper_bgcolor": "white",
          "plot_bgcolor": "#E5ECF6",
          "polar": {
           "angularaxis": {
            "gridcolor": "white",
            "linecolor": "white",
            "ticks": ""
           },
           "bgcolor": "#E5ECF6",
           "radialaxis": {
            "gridcolor": "white",
            "linecolor": "white",
            "ticks": ""
           }
          },
          "scene": {
           "xaxis": {
            "backgroundcolor": "#E5ECF6",
            "gridcolor": "white",
            "gridwidth": 2,
            "linecolor": "white",
            "showbackground": true,
            "ticks": "",
            "zerolinecolor": "white"
           },
           "yaxis": {
            "backgroundcolor": "#E5ECF6",
            "gridcolor": "white",
            "gridwidth": 2,
            "linecolor": "white",
            "showbackground": true,
            "ticks": "",
            "zerolinecolor": "white"
           },
           "zaxis": {
            "backgroundcolor": "#E5ECF6",
            "gridcolor": "white",
            "gridwidth": 2,
            "linecolor": "white",
            "showbackground": true,
            "ticks": "",
            "zerolinecolor": "white"
           }
          },
          "shapedefaults": {
           "line": {
            "color": "#2a3f5f"
           }
          },
          "ternary": {
           "aaxis": {
            "gridcolor": "white",
            "linecolor": "white",
            "ticks": ""
           },
           "baxis": {
            "gridcolor": "white",
            "linecolor": "white",
            "ticks": ""
           },
           "bgcolor": "#E5ECF6",
           "caxis": {
            "gridcolor": "white",
            "linecolor": "white",
            "ticks": ""
           }
          },
          "title": {
           "x": 0.05
          },
          "xaxis": {
           "automargin": true,
           "gridcolor": "white",
           "linecolor": "white",
           "ticks": "",
           "title": {
            "standoff": 15
           },
           "zerolinecolor": "white",
           "zerolinewidth": 2
          },
          "yaxis": {
           "automargin": true,
           "gridcolor": "white",
           "linecolor": "white",
           "ticks": "",
           "title": {
            "standoff": 15
           },
           "zerolinecolor": "white",
           "zerolinewidth": 2
          }
         }
        },
        "title": {
         "text": "Stations locations within the 5 Areas"
        },
        "width": 900
       }
      },
      "text/html": [
       "<div>                            <div id=\"bc5c007d-70e4-43de-bbb2-246e4f03e3cc\" class=\"plotly-graph-div\" style=\"height:800px; width:900px;\"></div>            <script type=\"text/javascript\">                require([\"plotly\"], function(Plotly) {                    window.PLOTLYENV=window.PLOTLYENV || {};                                    if (document.getElementById(\"bc5c007d-70e4-43de-bbb2-246e4f03e3cc\")) {                    Plotly.newPlot(                        \"bc5c007d-70e4-43de-bbb2-246e4f03e3cc\",                        [{\"lat\": [37.389218, 37.394358000000004, 37.406940000000006, 37.390277000000005, 37.400443, 37.385956, 37.400240999999994], \"lon\": [-122.081896, -122.07671299999998, -122.10675800000001, -122.066553, -122.10833799999999, -122.083678, -122.099076], \"marker\": {\"color\": \"#2ca02c\", \"size\": 10}, \"mode\": \"markers+text\", \"name\": \"Mountain View\", \"text\": [\"27\", \"28\", \"29\", \"30\", \"31\", \"32\", \"33\"], \"textfont\": {\"size\": 9}, \"textposition\": \"bottom center\", \"type\": \"scattermapbox\"}, {\"lat\": [37.443988, 37.444521, 37.429082, 37.448598, 37.425683899999996], \"lon\": [-122.164759, -122.16309299999999, -122.14280500000001, -122.159504, -122.13777749999998], \"marker\": {\"color\": \"#d62728\", \"size\": 10}, \"mode\": \"markers+text\", \"name\": \"Palo Alto\", \"text\": [\"34\", \"35\", \"36\", \"37\", \"38\"], \"textfont\": {\"size\": 9}, \"textposition\": \"bottom center\", \"type\": \"scattermapbox\"}, {\"lat\": [37.481758, 37.486078000000006, 37.488501, 37.484219, 37.486725, 37.48537, 37.487682, 37.491269], \"lon\": [-122.226904, -122.23208899999999, -122.23106100000001, -122.227424, -122.225551, -122.20328799999999, -122.223492, -122.23623400000001], \"marker\": {\"color\": \"#ff7f0e\", \"size\": 10}, \"mode\": \"markers+text\", \"name\": \"Redwood City\", \"text\": [\"21\", \"22\", \"23\", \"24\", \"25\", \"86\", \"26\", \"83\"], \"textfont\": {\"size\": 9}, \"textposition\": \"bottom center\", \"type\": \"scattermapbox\"}, {\"lat\": [37.795001, 37.79728, 37.794230999999996, 37.795425, 37.788975, 37.799953, 37.789625, 37.795392, 37.791464000000005, 37.783871000000005, 37.787152, 37.789756, 37.792251, 37.781752000000004, 37.77865, 37.781332, 37.80477, 37.780526, 37.785299, 37.786978000000005, 37.782259, 37.771058000000004, 37.774814, 37.776619000000004, 37.784878000000006, 37.776377000000004, 37.776617, 37.788446, 37.780356, 37.798522, 37.794139, 37.7913, 37.786305, 37.789625, 37.798541], \"lon\": [-122.39997, -122.398436, -122.402923, -122.40476699999999, -122.403452, -122.398525, -122.39026399999999, -122.394203, -122.391034, -122.408433, -122.38801299999999, -122.39464299999999, -122.39708600000002, -122.40512700000001, -122.41823500000001, -122.418603, -122.40323400000001, -122.39028799999998, -122.39623600000002, -122.39810800000001, -122.392738, -122.402717, -122.418954, -122.41738500000001, -122.40101399999999, -122.39607, -122.39526000000001, -122.408499, -122.41291899999999, -122.40724499999999, -122.394434, -122.399051, -122.40496599999999, -122.400811, -122.40086200000002], \"marker\": {\"color\": \"#9467bd\", \"size\": 10}, \"mode\": \"markers+text\", \"name\": \"San Francisco\", \"text\": [\"41\", \"42\", \"45\", \"46\", \"47\", \"48\", \"49\", \"50\", \"51\", \"39\", \"54\", \"55\", \"56\", \"57\", \"58\", \"59\", \"60\", \"61\", \"62\", \"63\", \"64\", \"65\", \"66\", \"67\", \"68\", \"69\", \"70\", \"71\", \"72\", \"73\", \"74\", \"75\", \"76\", \"77\", \"82\"], \"textfont\": {\"size\": 9}, \"textposition\": \"bottom center\", \"type\": \"scattermapbox\"}, {\"lat\": [37.329732, 37.330698, 37.333988, 37.331415, 37.336721000000004, 37.333798, 37.330165, 37.348742, 37.337391, 37.335885, 37.332808, 37.339301, 37.332692, 37.333954999999996, 37.352601, 37.342725], \"lon\": [-121.90178200000001, -121.888979, -121.894902, -121.8932, -121.894074, -121.88694299999999, -121.88583100000001, -121.89471499999999, -121.886995, -121.88566000000002, -121.88389099999999, -121.88993700000002, -121.900084, -121.877349, -121.90573300000001, -121.89561699999999], \"marker\": {\"color\": \"#1f77b4\", \"size\": 10}, \"mode\": \"markers+text\", \"name\": \"San Jose\", \"text\": [\"2\", \"3\", \"4\", \"5\", \"6\", \"7\", \"8\", \"9\", \"10\", \"11\", \"12\", \"13\", \"14\", \"16\", \"80\", \"84\"], \"textfont\": {\"size\": 9}, \"textposition\": \"bottom center\", \"type\": \"scattermapbox\"}],                        {\"autosize\": false, \"height\": 800, \"hovermode\": \"closest\", \"legend\": {\"orientation\": \"h\"}, \"mapbox\": {\"accesstoken\": \"pk.eyJ1IjoiYWRyaWVuYnVjaGUiLCJhIjoiY2pycWF1YTIzMWlyYzQ0bnRqdWhxend0ZiJ9.1GYr2MFuCWbECzG3CS7sHg\", \"bearing\": 0, \"center\": {\"lat\": 37.58877554788733, \"lon\": -122.21855197887328}, \"pitch\": 0, \"zoom\": 9}, \"margin\": {\"b\": 100, \"l\": 100, \"pad\": 4, \"r\": 100, \"t\": 100}, \"showlegend\": true, \"template\": {\"data\": {\"bar\": [{\"error_x\": {\"color\": \"#2a3f5f\"}, \"error_y\": {\"color\": \"#2a3f5f\"}, \"marker\": {\"line\": {\"color\": \"#E5ECF6\", \"width\": 0.5}}, \"type\": \"bar\"}], \"barpolar\": [{\"marker\": {\"line\": {\"color\": \"#E5ECF6\", \"width\": 0.5}}, \"type\": \"barpolar\"}], \"carpet\": [{\"aaxis\": {\"endlinecolor\": \"#2a3f5f\", \"gridcolor\": \"white\", \"linecolor\": \"white\", \"minorgridcolor\": \"white\", \"startlinecolor\": \"#2a3f5f\"}, \"baxis\": {\"endlinecolor\": \"#2a3f5f\", \"gridcolor\": \"white\", \"linecolor\": \"white\", \"minorgridcolor\": \"white\", \"startlinecolor\": \"#2a3f5f\"}, \"type\": \"carpet\"}], \"choropleth\": [{\"colorbar\": {\"outlinewidth\": 0, \"ticks\": \"\"}, \"type\": \"choropleth\"}], \"contour\": [{\"colorbar\": {\"outlinewidth\": 0, \"ticks\": \"\"}, \"colorscale\": [[0.0, \"#0d0887\"], [0.1111111111111111, \"#46039f\"], [0.2222222222222222, \"#7201a8\"], [0.3333333333333333, \"#9c179e\"], [0.4444444444444444, \"#bd3786\"], [0.5555555555555556, \"#d8576b\"], [0.6666666666666666, \"#ed7953\"], [0.7777777777777778, \"#fb9f3a\"], [0.8888888888888888, \"#fdca26\"], [1.0, \"#f0f921\"]], \"type\": \"contour\"}], \"contourcarpet\": [{\"colorbar\": {\"outlinewidth\": 0, \"ticks\": \"\"}, \"type\": \"contourcarpet\"}], \"heatmap\": [{\"colorbar\": {\"outlinewidth\": 0, \"ticks\": \"\"}, \"colorscale\": [[0.0, \"#0d0887\"], [0.1111111111111111, \"#46039f\"], [0.2222222222222222, \"#7201a8\"], [0.3333333333333333, \"#9c179e\"], [0.4444444444444444, \"#bd3786\"], [0.5555555555555556, \"#d8576b\"], [0.6666666666666666, \"#ed7953\"], [0.7777777777777778, \"#fb9f3a\"], [0.8888888888888888, \"#fdca26\"], [1.0, \"#f0f921\"]], \"type\": \"heatmap\"}], \"heatmapgl\": [{\"colorbar\": {\"outlinewidth\": 0, \"ticks\": \"\"}, \"colorscale\": [[0.0, \"#0d0887\"], [0.1111111111111111, \"#46039f\"], [0.2222222222222222, \"#7201a8\"], [0.3333333333333333, \"#9c179e\"], [0.4444444444444444, \"#bd3786\"], [0.5555555555555556, \"#d8576b\"], [0.6666666666666666, \"#ed7953\"], [0.7777777777777778, \"#fb9f3a\"], [0.8888888888888888, \"#fdca26\"], [1.0, \"#f0f921\"]], \"type\": \"heatmapgl\"}], \"histogram\": [{\"marker\": {\"colorbar\": {\"outlinewidth\": 0, \"ticks\": \"\"}}, \"type\": \"histogram\"}], \"histogram2d\": [{\"colorbar\": {\"outlinewidth\": 0, \"ticks\": \"\"}, \"colorscale\": [[0.0, \"#0d0887\"], [0.1111111111111111, \"#46039f\"], [0.2222222222222222, \"#7201a8\"], [0.3333333333333333, \"#9c179e\"], [0.4444444444444444, \"#bd3786\"], [0.5555555555555556, \"#d8576b\"], [0.6666666666666666, \"#ed7953\"], [0.7777777777777778, \"#fb9f3a\"], [0.8888888888888888, \"#fdca26\"], [1.0, \"#f0f921\"]], \"type\": \"histogram2d\"}], \"histogram2dcontour\": [{\"colorbar\": {\"outlinewidth\": 0, \"ticks\": \"\"}, \"colorscale\": [[0.0, \"#0d0887\"], [0.1111111111111111, \"#46039f\"], [0.2222222222222222, \"#7201a8\"], [0.3333333333333333, \"#9c179e\"], [0.4444444444444444, \"#bd3786\"], [0.5555555555555556, \"#d8576b\"], [0.6666666666666666, \"#ed7953\"], [0.7777777777777778, \"#fb9f3a\"], [0.8888888888888888, \"#fdca26\"], [1.0, \"#f0f921\"]], \"type\": \"histogram2dcontour\"}], \"mesh3d\": [{\"colorbar\": {\"outlinewidth\": 0, \"ticks\": \"\"}, \"type\": \"mesh3d\"}], \"parcoords\": [{\"line\": {\"colorbar\": {\"outlinewidth\": 0, \"ticks\": \"\"}}, \"type\": \"parcoords\"}], \"pie\": [{\"automargin\": true, \"type\": \"pie\"}], \"scatter\": [{\"marker\": {\"colorbar\": {\"outlinewidth\": 0, \"ticks\": \"\"}}, \"type\": \"scatter\"}], \"scatter3d\": [{\"line\": {\"colorbar\": {\"outlinewidth\": 0, \"ticks\": \"\"}}, \"marker\": {\"colorbar\": {\"outlinewidth\": 0, \"ticks\": \"\"}}, \"type\": \"scatter3d\"}], \"scattercarpet\": [{\"marker\": {\"colorbar\": {\"outlinewidth\": 0, \"ticks\": \"\"}}, \"type\": \"scattercarpet\"}], \"scattergeo\": [{\"marker\": {\"colorbar\": {\"outlinewidth\": 0, \"ticks\": \"\"}}, \"type\": \"scattergeo\"}], \"scattergl\": [{\"marker\": {\"colorbar\": {\"outlinewidth\": 0, \"ticks\": \"\"}}, \"type\": \"scattergl\"}], \"scattermapbox\": [{\"marker\": {\"colorbar\": {\"outlinewidth\": 0, \"ticks\": \"\"}}, \"type\": \"scattermapbox\"}], \"scatterpolar\": [{\"marker\": {\"colorbar\": {\"outlinewidth\": 0, \"ticks\": \"\"}}, \"type\": \"scatterpolar\"}], \"scatterpolargl\": [{\"marker\": {\"colorbar\": {\"outlinewidth\": 0, \"ticks\": \"\"}}, \"type\": \"scatterpolargl\"}], \"scatterternary\": [{\"marker\": {\"colorbar\": {\"outlinewidth\": 0, \"ticks\": \"\"}}, \"type\": \"scatterternary\"}], \"surface\": [{\"colorbar\": {\"outlinewidth\": 0, \"ticks\": \"\"}, \"colorscale\": [[0.0, \"#0d0887\"], [0.1111111111111111, \"#46039f\"], [0.2222222222222222, \"#7201a8\"], [0.3333333333333333, \"#9c179e\"], [0.4444444444444444, \"#bd3786\"], [0.5555555555555556, \"#d8576b\"], [0.6666666666666666, \"#ed7953\"], [0.7777777777777778, \"#fb9f3a\"], [0.8888888888888888, \"#fdca26\"], [1.0, \"#f0f921\"]], \"type\": \"surface\"}], \"table\": [{\"cells\": {\"fill\": {\"color\": \"#EBF0F8\"}, \"line\": {\"color\": \"white\"}}, \"header\": {\"fill\": {\"color\": \"#C8D4E3\"}, \"line\": {\"color\": \"white\"}}, \"type\": \"table\"}]}, \"layout\": {\"annotationdefaults\": {\"arrowcolor\": \"#2a3f5f\", \"arrowhead\": 0, \"arrowwidth\": 1}, \"coloraxis\": {\"colorbar\": {\"outlinewidth\": 0, \"ticks\": \"\"}}, \"colorscale\": {\"diverging\": [[0, \"#8e0152\"], [0.1, \"#c51b7d\"], [0.2, \"#de77ae\"], [0.3, \"#f1b6da\"], [0.4, \"#fde0ef\"], [0.5, \"#f7f7f7\"], [0.6, \"#e6f5d0\"], [0.7, \"#b8e186\"], [0.8, \"#7fbc41\"], [0.9, \"#4d9221\"], [1, \"#276419\"]], \"sequential\": [[0.0, \"#0d0887\"], [0.1111111111111111, \"#46039f\"], [0.2222222222222222, \"#7201a8\"], [0.3333333333333333, \"#9c179e\"], [0.4444444444444444, \"#bd3786\"], [0.5555555555555556, \"#d8576b\"], [0.6666666666666666, \"#ed7953\"], [0.7777777777777778, \"#fb9f3a\"], [0.8888888888888888, \"#fdca26\"], [1.0, \"#f0f921\"]], \"sequentialminus\": [[0.0, \"#0d0887\"], [0.1111111111111111, \"#46039f\"], [0.2222222222222222, \"#7201a8\"], [0.3333333333333333, \"#9c179e\"], [0.4444444444444444, \"#bd3786\"], [0.5555555555555556, \"#d8576b\"], [0.6666666666666666, \"#ed7953\"], [0.7777777777777778, \"#fb9f3a\"], [0.8888888888888888, \"#fdca26\"], [1.0, \"#f0f921\"]]}, \"colorway\": [\"#636efa\", \"#EF553B\", \"#00cc96\", \"#ab63fa\", \"#FFA15A\", \"#19d3f3\", \"#FF6692\", \"#B6E880\", \"#FF97FF\", \"#FECB52\"], \"font\": {\"color\": \"#2a3f5f\"}, \"geo\": {\"bgcolor\": \"white\", \"lakecolor\": \"white\", \"landcolor\": \"#E5ECF6\", \"showlakes\": true, \"showland\": true, \"subunitcolor\": \"white\"}, \"hoverlabel\": {\"align\": \"left\"}, \"hovermode\": \"closest\", \"mapbox\": {\"style\": \"light\"}, \"paper_bgcolor\": \"white\", \"plot_bgcolor\": \"#E5ECF6\", \"polar\": {\"angularaxis\": {\"gridcolor\": \"white\", \"linecolor\": \"white\", \"ticks\": \"\"}, \"bgcolor\": \"#E5ECF6\", \"radialaxis\": {\"gridcolor\": \"white\", \"linecolor\": \"white\", \"ticks\": \"\"}}, \"scene\": {\"xaxis\": {\"backgroundcolor\": \"#E5ECF6\", \"gridcolor\": \"white\", \"gridwidth\": 2, \"linecolor\": \"white\", \"showbackground\": true, \"ticks\": \"\", \"zerolinecolor\": \"white\"}, \"yaxis\": {\"backgroundcolor\": \"#E5ECF6\", \"gridcolor\": \"white\", \"gridwidth\": 2, \"linecolor\": \"white\", \"showbackground\": true, \"ticks\": \"\", \"zerolinecolor\": \"white\"}, \"zaxis\": {\"backgroundcolor\": \"#E5ECF6\", \"gridcolor\": \"white\", \"gridwidth\": 2, \"linecolor\": \"white\", \"showbackground\": true, \"ticks\": \"\", \"zerolinecolor\": \"white\"}}, \"shapedefaults\": {\"line\": {\"color\": \"#2a3f5f\"}}, \"ternary\": {\"aaxis\": {\"gridcolor\": \"white\", \"linecolor\": \"white\", \"ticks\": \"\"}, \"baxis\": {\"gridcolor\": \"white\", \"linecolor\": \"white\", \"ticks\": \"\"}, \"bgcolor\": \"#E5ECF6\", \"caxis\": {\"gridcolor\": \"white\", \"linecolor\": \"white\", \"ticks\": \"\"}}, \"title\": {\"x\": 0.05}, \"xaxis\": {\"automargin\": true, \"gridcolor\": \"white\", \"linecolor\": \"white\", \"ticks\": \"\", \"title\": {\"standoff\": 15}, \"zerolinecolor\": \"white\", \"zerolinewidth\": 2}, \"yaxis\": {\"automargin\": true, \"gridcolor\": \"white\", \"linecolor\": \"white\", \"ticks\": \"\", \"title\": {\"standoff\": 15}, \"zerolinecolor\": \"white\", \"zerolinewidth\": 2}}}, \"title\": {\"text\": \"Stations locations within the 5 Areas\"}, \"width\": 900},                        {\"responsive\": true}                    ).then(function(){\n",
       "                            \n",
       "var gd = document.getElementById('bc5c007d-70e4-43de-bbb2-246e4f03e3cc');\n",
       "var x = new MutationObserver(function (mutations, observer) {{\n",
       "        var display = window.getComputedStyle(gd).display;\n",
       "        if (!display || display === 'none') {{\n",
       "            console.log([gd, 'removed!']);\n",
       "            Plotly.purge(gd);\n",
       "            observer.disconnect();\n",
       "        }}\n",
       "}});\n",
       "\n",
       "// Listen for the removal of the full notebook cells\n",
       "var notebookContainer = gd.closest('#notebook-container');\n",
       "if (notebookContainer) {{\n",
       "    x.observe(notebookContainer, {childList: true});\n",
       "}}\n",
       "\n",
       "// Listen for the clearing of the current output cell\n",
       "var outputEl = gd.closest('.output');\n",
       "if (outputEl) {{\n",
       "    x.observe(outputEl, {childList: true});\n",
       "}}\n",
       "\n",
       "                        })                };                });            </script>        </div>"
      ]
     },
     "metadata": {},
     "output_type": "display_data"
    }
   ],
   "source": [
    "plot_stations(station, \"All\")"
   ]
  },
  {
   "cell_type": "markdown",
   "metadata": {},
   "source": [
    "# Trip"
   ]
  },
  {
   "cell_type": "code",
   "execution_count": 131,
   "metadata": {
    "ExecuteTime": {
     "end_time": "2020-11-02T15:24:09.393046Z",
     "start_time": "2020-11-02T15:24:09.099415Z"
    }
   },
   "outputs": [
    {
     "data": {
      "text/plain": [
       "(354152, 6)"
      ]
     },
     "execution_count": 131,
     "metadata": {},
     "output_type": "execute_result"
    }
   ],
   "source": [
    "trip = pd.read_csv(\"data/trip_data.csv\")\n",
    "trip.shape"
   ]
  },
  {
   "cell_type": "code",
   "execution_count": 132,
   "metadata": {
    "ExecuteTime": {
     "end_time": "2020-11-02T15:24:09.792389Z",
     "start_time": "2020-11-02T15:24:09.782338Z"
    }
   },
   "outputs": [
    {
     "data": {
      "text/html": [
       "<div>\n",
       "<style scoped>\n",
       "    .dataframe tbody tr th:only-of-type {\n",
       "        vertical-align: middle;\n",
       "    }\n",
       "\n",
       "    .dataframe tbody tr th {\n",
       "        vertical-align: top;\n",
       "    }\n",
       "\n",
       "    .dataframe thead th {\n",
       "        text-align: right;\n",
       "    }\n",
       "</style>\n",
       "<table border=\"1\" class=\"dataframe\">\n",
       "  <thead>\n",
       "    <tr style=\"text-align: right;\">\n",
       "      <th></th>\n",
       "      <th>Trip ID</th>\n",
       "      <th>Start Date</th>\n",
       "      <th>Start Station</th>\n",
       "      <th>End Date</th>\n",
       "      <th>End Station</th>\n",
       "      <th>Subscriber Type</th>\n",
       "    </tr>\n",
       "  </thead>\n",
       "  <tbody>\n",
       "    <tr>\n",
       "      <th>0</th>\n",
       "      <td>913460</td>\n",
       "      <td>31/08/2015 23:26</td>\n",
       "      <td>50</td>\n",
       "      <td>31/08/2015 23:39</td>\n",
       "      <td>70</td>\n",
       "      <td>Subscriber</td>\n",
       "    </tr>\n",
       "    <tr>\n",
       "      <th>1</th>\n",
       "      <td>913459</td>\n",
       "      <td>31/08/2015 23:11</td>\n",
       "      <td>31</td>\n",
       "      <td>31/08/2015 23:28</td>\n",
       "      <td>27</td>\n",
       "      <td>Subscriber</td>\n",
       "    </tr>\n",
       "    <tr>\n",
       "      <th>2</th>\n",
       "      <td>913455</td>\n",
       "      <td>31/08/2015 23:13</td>\n",
       "      <td>47</td>\n",
       "      <td>31/08/2015 23:18</td>\n",
       "      <td>64</td>\n",
       "      <td>Subscriber</td>\n",
       "    </tr>\n",
       "    <tr>\n",
       "      <th>3</th>\n",
       "      <td>913454</td>\n",
       "      <td>31/08/2015 23:10</td>\n",
       "      <td>10</td>\n",
       "      <td>31/08/2015 23:17</td>\n",
       "      <td>8</td>\n",
       "      <td>Subscriber</td>\n",
       "    </tr>\n",
       "    <tr>\n",
       "      <th>4</th>\n",
       "      <td>913453</td>\n",
       "      <td>31/08/2015 23:09</td>\n",
       "      <td>51</td>\n",
       "      <td>31/08/2015 23:22</td>\n",
       "      <td>60</td>\n",
       "      <td>Customer</td>\n",
       "    </tr>\n",
       "  </tbody>\n",
       "</table>\n",
       "</div>"
      ],
      "text/plain": [
       "   Trip ID        Start Date  Start Station          End Date  End Station  \\\n",
       "0   913460  31/08/2015 23:26             50  31/08/2015 23:39           70   \n",
       "1   913459  31/08/2015 23:11             31  31/08/2015 23:28           27   \n",
       "2   913455  31/08/2015 23:13             47  31/08/2015 23:18           64   \n",
       "3   913454  31/08/2015 23:10             10  31/08/2015 23:17            8   \n",
       "4   913453  31/08/2015 23:09             51  31/08/2015 23:22           60   \n",
       "\n",
       "  Subscriber Type  \n",
       "0      Subscriber  \n",
       "1      Subscriber  \n",
       "2      Subscriber  \n",
       "3      Subscriber  \n",
       "4        Customer  "
      ]
     },
     "execution_count": 132,
     "metadata": {},
     "output_type": "execute_result"
    }
   ],
   "source": [
    "trip.head()"
   ]
  },
  {
   "cell_type": "code",
   "execution_count": null,
   "metadata": {},
   "outputs": [],
   "source": []
  },
  {
   "cell_type": "markdown",
   "metadata": {},
   "source": [
    "## Some Cleaning..."
   ]
  },
  {
   "cell_type": "markdown",
   "metadata": {},
   "source": [
    "Applying the ID's change that occur during the recording period"
   ]
  },
  {
   "cell_type": "code",
   "execution_count": 133,
   "metadata": {
    "ExecuteTime": {
     "end_time": "2020-11-02T15:24:12.514146Z",
     "start_time": "2020-11-02T15:24:12.505678Z"
    }
   },
   "outputs": [
    {
     "data": {
      "text/plain": [
       "array([50, 31, 47, 10, 51, 68, 60, 56, 67, 76, 77, 55, 88, 35, 87, 70, 28,\n",
       "       74, 90, 61, 32, 63, 57, 64, 54, 65, 45, 66, 75, 59, 42, 48, 41, 82,\n",
       "       36, 22, 37, 39, 80,  2, 62, 71, 58,  4, 26,  5,  7, 34, 29, 46, 27,\n",
       "        6, 73, 86, 38, 11,  8, 84,  9, 12, 30, 33, 83, 16, 14, 13,  3, 21,\n",
       "       24, 85, 89, 69, 72, 49, 23, 25])"
      ]
     },
     "execution_count": 133,
     "metadata": {},
     "output_type": "execute_result"
    }
   ],
   "source": [
    "trip[\"Start Station\"].unique()"
   ]
  },
  {
   "cell_type": "code",
   "execution_count": 134,
   "metadata": {
    "ExecuteTime": {
     "end_time": "2020-11-02T15:24:23.848715Z",
     "start_time": "2020-11-02T15:24:23.820711Z"
    }
   },
   "outputs": [],
   "source": [
    "trip[\"Start Station\"] = trip[\"Start Station\"].replace({85: 23, 87: 49, 88: 69, 89: 72, 90: 72})\n",
    "trip[\"End Station\"] = trip[\"End Station\"].replace({85: 23, 87: 49, 88: 69, 89: 72, 90: 72})"
   ]
  },
  {
   "cell_type": "code",
   "execution_count": 135,
   "metadata": {
    "ExecuteTime": {
     "end_time": "2020-11-02T15:24:24.655804Z",
     "start_time": "2020-11-02T15:24:24.647927Z"
    }
   },
   "outputs": [
    {
     "data": {
      "text/plain": [
       "array([70, 27, 64,  8, 60, 74, 55, 66, 77, 73, 82, 69, 65, 37, 76, 32, 54,\n",
       "       61, 57, 56, 71, 28, 50, 49, 58, 39, 41, 67, 42, 72, 33, 75, 63, 29,\n",
       "       26, 46, 34, 30, 83,  6, 47, 16, 84,  7, 59, 68, 62,  2, 22,  4, 48,\n",
       "       51, 11, 45,  9, 35, 36, 80, 12, 31,  5, 38, 86, 10, 13, 14,  3, 23,\n",
       "       21, 24, 25])"
      ]
     },
     "execution_count": 135,
     "metadata": {},
     "output_type": "execute_result"
    }
   ],
   "source": [
    "trip[\"End Station\"].unique()"
   ]
  },
  {
   "cell_type": "markdown",
   "metadata": {},
   "source": [
    "Converting Start/End date into a Pandas datetime object"
   ]
  },
  {
   "cell_type": "code",
   "execution_count": 136,
   "metadata": {
    "ExecuteTime": {
     "end_time": "2020-11-02T15:24:25.837748Z",
     "start_time": "2020-11-02T15:24:25.834144Z"
    }
   },
   "outputs": [],
   "source": [
    "def convert_to_date(x):\n",
    "    return datetime.strptime(x, '%d/%m/%Y %H:%M')\n",
    "\n",
    "def convert_to_minutes(x):\n",
    "    return x.total_seconds() // 60"
   ]
  },
  {
   "cell_type": "code",
   "execution_count": 137,
   "metadata": {
    "ExecuteTime": {
     "end_time": "2020-11-02T15:24:30.512062Z",
     "start_time": "2020-11-02T15:24:26.096147Z"
    }
   },
   "outputs": [],
   "source": [
    "trip[\"Start Date\"] = trip[\"Start Date\"].apply(convert_to_date)\n",
    "trip[\"End Date\"] = trip[\"End Date\"].apply(convert_to_date)"
   ]
  },
  {
   "cell_type": "code",
   "execution_count": 138,
   "metadata": {
    "ExecuteTime": {
     "end_time": "2020-11-02T15:24:32.835961Z",
     "start_time": "2020-11-02T15:24:30.515071Z"
    }
   },
   "outputs": [],
   "source": [
    "trip[\"Trip Duration\"] = trip[\"End Date\"] - trip[\"Start Date\"]\n",
    "trip[\"Trip Duration Minutes\"] = trip[\"Trip Duration\"].apply(convert_to_minutes)"
   ]
  },
  {
   "cell_type": "markdown",
   "metadata": {},
   "source": [
    "Adding the associated area to each station"
   ]
  },
  {
   "cell_type": "code",
   "execution_count": 139,
   "metadata": {
    "ExecuteTime": {
     "end_time": "2020-11-02T15:24:33.172874Z",
     "start_time": "2020-11-02T15:24:32.838686Z"
    }
   },
   "outputs": [],
   "source": [
    "trip[\"Start Area\"] = trip[\"Start Station\"].replace(station[\"City\"].to_dict())\n",
    "trip[\"End Area\"] = trip[\"End Station\"].replace(station[\"City\"].to_dict())"
   ]
  },
  {
   "cell_type": "markdown",
   "metadata": {
    "ExecuteTime": {
     "end_time": "2020-11-01T15:04:10.572304Z",
     "start_time": "2020-11-01T15:04:10.569049Z"
    }
   },
   "source": [
    "## Analysis"
   ]
  },
  {
   "cell_type": "code",
   "execution_count": 140,
   "metadata": {
    "ExecuteTime": {
     "end_time": "2020-11-02T15:24:33.954041Z",
     "start_time": "2020-11-02T15:24:33.938007Z"
    }
   },
   "outputs": [
    {
     "data": {
      "text/html": [
       "<div>\n",
       "<style scoped>\n",
       "    .dataframe tbody tr th:only-of-type {\n",
       "        vertical-align: middle;\n",
       "    }\n",
       "\n",
       "    .dataframe tbody tr th {\n",
       "        vertical-align: top;\n",
       "    }\n",
       "\n",
       "    .dataframe thead th {\n",
       "        text-align: right;\n",
       "    }\n",
       "</style>\n",
       "<table border=\"1\" class=\"dataframe\">\n",
       "  <thead>\n",
       "    <tr style=\"text-align: right;\">\n",
       "      <th></th>\n",
       "      <th>Trip ID</th>\n",
       "      <th>Start Date</th>\n",
       "      <th>Start Station</th>\n",
       "      <th>End Date</th>\n",
       "      <th>End Station</th>\n",
       "      <th>Subscriber Type</th>\n",
       "      <th>Trip Duration</th>\n",
       "      <th>Trip Duration Minutes</th>\n",
       "      <th>Start Area</th>\n",
       "      <th>End Area</th>\n",
       "    </tr>\n",
       "  </thead>\n",
       "  <tbody>\n",
       "    <tr>\n",
       "      <th>0</th>\n",
       "      <td>913460</td>\n",
       "      <td>2015-08-31 23:26:00</td>\n",
       "      <td>50</td>\n",
       "      <td>2015-08-31 23:39:00</td>\n",
       "      <td>70</td>\n",
       "      <td>Subscriber</td>\n",
       "      <td>0 days 00:13:00</td>\n",
       "      <td>13.0</td>\n",
       "      <td>San Francisco</td>\n",
       "      <td>San Francisco</td>\n",
       "    </tr>\n",
       "    <tr>\n",
       "      <th>1</th>\n",
       "      <td>913459</td>\n",
       "      <td>2015-08-31 23:11:00</td>\n",
       "      <td>31</td>\n",
       "      <td>2015-08-31 23:28:00</td>\n",
       "      <td>27</td>\n",
       "      <td>Subscriber</td>\n",
       "      <td>0 days 00:17:00</td>\n",
       "      <td>17.0</td>\n",
       "      <td>Mountain View</td>\n",
       "      <td>Mountain View</td>\n",
       "    </tr>\n",
       "    <tr>\n",
       "      <th>2</th>\n",
       "      <td>913455</td>\n",
       "      <td>2015-08-31 23:13:00</td>\n",
       "      <td>47</td>\n",
       "      <td>2015-08-31 23:18:00</td>\n",
       "      <td>64</td>\n",
       "      <td>Subscriber</td>\n",
       "      <td>0 days 00:05:00</td>\n",
       "      <td>5.0</td>\n",
       "      <td>San Francisco</td>\n",
       "      <td>San Francisco</td>\n",
       "    </tr>\n",
       "    <tr>\n",
       "      <th>3</th>\n",
       "      <td>913454</td>\n",
       "      <td>2015-08-31 23:10:00</td>\n",
       "      <td>10</td>\n",
       "      <td>2015-08-31 23:17:00</td>\n",
       "      <td>8</td>\n",
       "      <td>Subscriber</td>\n",
       "      <td>0 days 00:07:00</td>\n",
       "      <td>7.0</td>\n",
       "      <td>San Jose</td>\n",
       "      <td>San Jose</td>\n",
       "    </tr>\n",
       "    <tr>\n",
       "      <th>4</th>\n",
       "      <td>913453</td>\n",
       "      <td>2015-08-31 23:09:00</td>\n",
       "      <td>51</td>\n",
       "      <td>2015-08-31 23:22:00</td>\n",
       "      <td>60</td>\n",
       "      <td>Customer</td>\n",
       "      <td>0 days 00:13:00</td>\n",
       "      <td>13.0</td>\n",
       "      <td>San Francisco</td>\n",
       "      <td>San Francisco</td>\n",
       "    </tr>\n",
       "  </tbody>\n",
       "</table>\n",
       "</div>"
      ],
      "text/plain": [
       "   Trip ID          Start Date  Start Station            End Date  \\\n",
       "0   913460 2015-08-31 23:26:00             50 2015-08-31 23:39:00   \n",
       "1   913459 2015-08-31 23:11:00             31 2015-08-31 23:28:00   \n",
       "2   913455 2015-08-31 23:13:00             47 2015-08-31 23:18:00   \n",
       "3   913454 2015-08-31 23:10:00             10 2015-08-31 23:17:00   \n",
       "4   913453 2015-08-31 23:09:00             51 2015-08-31 23:22:00   \n",
       "\n",
       "   End Station Subscriber Type   Trip Duration  Trip Duration Minutes  \\\n",
       "0           70      Subscriber 0 days 00:13:00                   13.0   \n",
       "1           27      Subscriber 0 days 00:17:00                   17.0   \n",
       "2           64      Subscriber 0 days 00:05:00                    5.0   \n",
       "3            8      Subscriber 0 days 00:07:00                    7.0   \n",
       "4           60        Customer 0 days 00:13:00                   13.0   \n",
       "\n",
       "      Start Area       End Area  \n",
       "0  San Francisco  San Francisco  \n",
       "1  Mountain View  Mountain View  \n",
       "2  San Francisco  San Francisco  \n",
       "3       San Jose       San Jose  \n",
       "4  San Francisco  San Francisco  "
      ]
     },
     "execution_count": 140,
     "metadata": {},
     "output_type": "execute_result"
    }
   ],
   "source": [
    "trip.head()"
   ]
  },
  {
   "cell_type": "code",
   "execution_count": 141,
   "metadata": {
    "ExecuteTime": {
     "end_time": "2020-11-02T15:24:35.044195Z",
     "start_time": "2020-11-02T15:24:35.034135Z"
    }
   },
   "outputs": [
    {
     "data": {
      "text/plain": [
       "'This dataset spans from 2014-09-01 00:05:00 to 2015-08-31 23:39:00'"
      ]
     },
     "execution_count": 141,
     "metadata": {},
     "output_type": "execute_result"
    }
   ],
   "source": [
    "\"This dataset spans from {} to {}\".format(trip[\"Start Date\"].min(),trip[\"End Date\"].max())"
   ]
  },
  {
   "cell_type": "markdown",
   "metadata": {},
   "source": [
    "- A good additional info for this dataset would have been to get the ID of the Subcriber (vs Customer). Like that, we could have identified all the trips performed by a specific subscriber, extract habits and probably enhance the accuracy of the prediction we try to make"
   ]
  },
  {
   "cell_type": "markdown",
   "metadata": {},
   "source": [
    "### Intra-Inter Trip Proportion"
   ]
  },
  {
   "cell_type": "code",
   "execution_count": 142,
   "metadata": {
    "ExecuteTime": {
     "end_time": "2020-11-02T15:24:37.076509Z",
     "start_time": "2020-11-02T15:24:36.972777Z"
    }
   },
   "outputs": [
    {
     "data": {
      "text/html": [
       "<div>\n",
       "<style scoped>\n",
       "    .dataframe tbody tr th:only-of-type {\n",
       "        vertical-align: middle;\n",
       "    }\n",
       "\n",
       "    .dataframe tbody tr th {\n",
       "        vertical-align: top;\n",
       "    }\n",
       "\n",
       "    .dataframe thead th {\n",
       "        text-align: right;\n",
       "    }\n",
       "</style>\n",
       "<table border=\"1\" class=\"dataframe\">\n",
       "  <thead>\n",
       "    <tr style=\"text-align: right;\">\n",
       "      <th>End Area</th>\n",
       "      <th>Mountain View</th>\n",
       "      <th>Palo Alto</th>\n",
       "      <th>Redwood City</th>\n",
       "      <th>San Francisco</th>\n",
       "      <th>San Jose</th>\n",
       "    </tr>\n",
       "    <tr>\n",
       "      <th>Start Area</th>\n",
       "      <th></th>\n",
       "      <th></th>\n",
       "      <th></th>\n",
       "      <th></th>\n",
       "      <th></th>\n",
       "    </tr>\n",
       "  </thead>\n",
       "  <tbody>\n",
       "    <tr>\n",
       "      <th>Mountain View</th>\n",
       "      <td>9788</td>\n",
       "      <td>198</td>\n",
       "      <td>3</td>\n",
       "      <td>4</td>\n",
       "      <td>6</td>\n",
       "    </tr>\n",
       "    <tr>\n",
       "      <th>Palo Alto</th>\n",
       "      <td>182</td>\n",
       "      <td>2851</td>\n",
       "      <td>36</td>\n",
       "      <td>4</td>\n",
       "      <td>0</td>\n",
       "    </tr>\n",
       "    <tr>\n",
       "      <th>Redwood City</th>\n",
       "      <td>1</td>\n",
       "      <td>64</td>\n",
       "      <td>1954</td>\n",
       "      <td>0</td>\n",
       "      <td>0</td>\n",
       "    </tr>\n",
       "    <tr>\n",
       "      <th>San Francisco</th>\n",
       "      <td>2</td>\n",
       "      <td>0</td>\n",
       "      <td>2</td>\n",
       "      <td>321101</td>\n",
       "      <td>0</td>\n",
       "    </tr>\n",
       "    <tr>\n",
       "      <th>San Jose</th>\n",
       "      <td>6</td>\n",
       "      <td>0</td>\n",
       "      <td>0</td>\n",
       "      <td>1</td>\n",
       "      <td>17949</td>\n",
       "    </tr>\n",
       "  </tbody>\n",
       "</table>\n",
       "</div>"
      ],
      "text/plain": [
       "End Area       Mountain View  Palo Alto  Redwood City  San Francisco  San Jose\n",
       "Start Area                                                                    \n",
       "Mountain View           9788        198             3              4         6\n",
       "Palo Alto                182       2851            36              4         0\n",
       "Redwood City               1         64          1954              0         0\n",
       "San Francisco              2          0             2         321101         0\n",
       "San Jose                   6          0             0              1     17949"
      ]
     },
     "execution_count": 142,
     "metadata": {},
     "output_type": "execute_result"
    }
   ],
   "source": [
    "intra_inter_trips = pd.pivot_table(trip, index =\"Start Area\", columns=\"End Area\", values=\"Trip ID\",\n",
    "               aggfunc=lambda x: len(x.unique()), fill_value= 0.0)\n",
    "intra_inter_trips"
   ]
  },
  {
   "cell_type": "code",
   "execution_count": 143,
   "metadata": {
    "ExecuteTime": {
     "end_time": "2020-11-02T15:24:38.274107Z",
     "start_time": "2020-11-02T15:24:38.264075Z"
    }
   },
   "outputs": [],
   "source": [
    "intra_inter_trips[\"Total\"] = intra_inter_trips.sum(axis=1)\n",
    "intra_inter_trips.loc[\"Total\"] = intra_inter_trips.sum(axis=0)"
   ]
  },
  {
   "cell_type": "code",
   "execution_count": 144,
   "metadata": {
    "ExecuteTime": {
     "end_time": "2020-11-02T15:24:38.908267Z",
     "start_time": "2020-11-02T15:24:38.898007Z"
    }
   },
   "outputs": [
    {
     "data": {
      "text/html": [
       "<div>\n",
       "<style scoped>\n",
       "    .dataframe tbody tr th:only-of-type {\n",
       "        vertical-align: middle;\n",
       "    }\n",
       "\n",
       "    .dataframe tbody tr th {\n",
       "        vertical-align: top;\n",
       "    }\n",
       "\n",
       "    .dataframe thead th {\n",
       "        text-align: right;\n",
       "    }\n",
       "</style>\n",
       "<table border=\"1\" class=\"dataframe\">\n",
       "  <thead>\n",
       "    <tr style=\"text-align: right;\">\n",
       "      <th>End Area</th>\n",
       "      <th>Mountain View</th>\n",
       "      <th>Palo Alto</th>\n",
       "      <th>Redwood City</th>\n",
       "      <th>San Francisco</th>\n",
       "      <th>San Jose</th>\n",
       "      <th>Total</th>\n",
       "    </tr>\n",
       "    <tr>\n",
       "      <th>Start Area</th>\n",
       "      <th></th>\n",
       "      <th></th>\n",
       "      <th></th>\n",
       "      <th></th>\n",
       "      <th></th>\n",
       "      <th></th>\n",
       "    </tr>\n",
       "  </thead>\n",
       "  <tbody>\n",
       "    <tr>\n",
       "      <th>Mountain View</th>\n",
       "      <td>9788</td>\n",
       "      <td>198</td>\n",
       "      <td>3</td>\n",
       "      <td>4</td>\n",
       "      <td>6</td>\n",
       "      <td>9999</td>\n",
       "    </tr>\n",
       "    <tr>\n",
       "      <th>Palo Alto</th>\n",
       "      <td>182</td>\n",
       "      <td>2851</td>\n",
       "      <td>36</td>\n",
       "      <td>4</td>\n",
       "      <td>0</td>\n",
       "      <td>3073</td>\n",
       "    </tr>\n",
       "    <tr>\n",
       "      <th>Redwood City</th>\n",
       "      <td>1</td>\n",
       "      <td>64</td>\n",
       "      <td>1954</td>\n",
       "      <td>0</td>\n",
       "      <td>0</td>\n",
       "      <td>2019</td>\n",
       "    </tr>\n",
       "    <tr>\n",
       "      <th>San Francisco</th>\n",
       "      <td>2</td>\n",
       "      <td>0</td>\n",
       "      <td>2</td>\n",
       "      <td>321101</td>\n",
       "      <td>0</td>\n",
       "      <td>321105</td>\n",
       "    </tr>\n",
       "    <tr>\n",
       "      <th>San Jose</th>\n",
       "      <td>6</td>\n",
       "      <td>0</td>\n",
       "      <td>0</td>\n",
       "      <td>1</td>\n",
       "      <td>17949</td>\n",
       "      <td>17956</td>\n",
       "    </tr>\n",
       "    <tr>\n",
       "      <th>Total</th>\n",
       "      <td>9979</td>\n",
       "      <td>3113</td>\n",
       "      <td>1995</td>\n",
       "      <td>321110</td>\n",
       "      <td>17955</td>\n",
       "      <td>354152</td>\n",
       "    </tr>\n",
       "  </tbody>\n",
       "</table>\n",
       "</div>"
      ],
      "text/plain": [
       "End Area       Mountain View  Palo Alto  Redwood City  San Francisco  \\\n",
       "Start Area                                                             \n",
       "Mountain View           9788        198             3              4   \n",
       "Palo Alto                182       2851            36              4   \n",
       "Redwood City               1         64          1954              0   \n",
       "San Francisco              2          0             2         321101   \n",
       "San Jose                   6          0             0              1   \n",
       "Total                   9979       3113          1995         321110   \n",
       "\n",
       "End Area       San Jose   Total  \n",
       "Start Area                       \n",
       "Mountain View         6    9999  \n",
       "Palo Alto             0    3073  \n",
       "Redwood City          0    2019  \n",
       "San Francisco         0  321105  \n",
       "San Jose          17949   17956  \n",
       "Total             17955  354152  "
      ]
     },
     "execution_count": 144,
     "metadata": {},
     "output_type": "execute_result"
    }
   ],
   "source": [
    "intra_inter_trips"
   ]
  },
  {
   "cell_type": "markdown",
   "metadata": {},
   "source": [
    "### Subscriber Type"
   ]
  },
  {
   "cell_type": "code",
   "execution_count": 145,
   "metadata": {
    "ExecuteTime": {
     "end_time": "2020-11-02T15:24:42.252311Z",
     "start_time": "2020-11-02T15:24:42.216559Z"
    }
   },
   "outputs": [
    {
     "data": {
      "text/plain": [
       "Subscriber    310217\n",
       "Customer       43935\n",
       "Name: Subscriber Type, dtype: int64"
      ]
     },
     "execution_count": 145,
     "metadata": {},
     "output_type": "execute_result"
    }
   ],
   "source": [
    "trip[\"Subscriber Type\"].value_counts()"
   ]
  },
  {
   "cell_type": "code",
   "execution_count": 146,
   "metadata": {
    "ExecuteTime": {
     "end_time": "2020-11-02T15:24:43.910261Z",
     "start_time": "2020-11-02T15:24:43.844683Z"
    }
   },
   "outputs": [
    {
     "data": {
      "text/html": [
       "<div>\n",
       "<style scoped>\n",
       "    .dataframe tbody tr th:only-of-type {\n",
       "        vertical-align: middle;\n",
       "    }\n",
       "\n",
       "    .dataframe tbody tr th {\n",
       "        vertical-align: top;\n",
       "    }\n",
       "\n",
       "    .dataframe thead th {\n",
       "        text-align: right;\n",
       "    }\n",
       "</style>\n",
       "<table border=\"1\" class=\"dataframe\">\n",
       "  <thead>\n",
       "    <tr style=\"text-align: right;\">\n",
       "      <th></th>\n",
       "      <th></th>\n",
       "      <th>Subscriber Type</th>\n",
       "    </tr>\n",
       "    <tr>\n",
       "      <th>Start Station</th>\n",
       "      <th>Subscriber Type</th>\n",
       "      <th></th>\n",
       "    </tr>\n",
       "  </thead>\n",
       "  <tbody>\n",
       "    <tr>\n",
       "      <th rowspan=\"2\" valign=\"top\">2</th>\n",
       "      <th>Subscriber</th>\n",
       "      <td>4738</td>\n",
       "    </tr>\n",
       "    <tr>\n",
       "      <th>Customer</th>\n",
       "      <td>230</td>\n",
       "    </tr>\n",
       "    <tr>\n",
       "      <th rowspan=\"2\" valign=\"top\">3</th>\n",
       "      <th>Subscriber</th>\n",
       "      <td>397</td>\n",
       "    </tr>\n",
       "    <tr>\n",
       "      <th>Customer</th>\n",
       "      <td>377</td>\n",
       "    </tr>\n",
       "    <tr>\n",
       "      <th>4</th>\n",
       "      <th>Subscriber</th>\n",
       "      <td>1828</td>\n",
       "    </tr>\n",
       "    <tr>\n",
       "      <th>...</th>\n",
       "      <th>...</th>\n",
       "      <td>...</td>\n",
       "    </tr>\n",
       "    <tr>\n",
       "      <th>83</th>\n",
       "      <th>Customer</th>\n",
       "      <td>25</td>\n",
       "    </tr>\n",
       "    <tr>\n",
       "      <th rowspan=\"2\" valign=\"top\">84</th>\n",
       "      <th>Subscriber</th>\n",
       "      <td>980</td>\n",
       "    </tr>\n",
       "    <tr>\n",
       "      <th>Customer</th>\n",
       "      <td>140</td>\n",
       "    </tr>\n",
       "    <tr>\n",
       "      <th rowspan=\"2\" valign=\"top\">86</th>\n",
       "      <th>Subscriber</th>\n",
       "      <td>351</td>\n",
       "    </tr>\n",
       "    <tr>\n",
       "      <th>Customer</th>\n",
       "      <td>67</td>\n",
       "    </tr>\n",
       "  </tbody>\n",
       "</table>\n",
       "<p>142 rows × 1 columns</p>\n",
       "</div>"
      ],
      "text/plain": [
       "                               Subscriber Type\n",
       "Start Station Subscriber Type                 \n",
       "2             Subscriber                  4738\n",
       "              Customer                     230\n",
       "3             Subscriber                   397\n",
       "              Customer                     377\n",
       "4             Subscriber                  1828\n",
       "...                                        ...\n",
       "83            Customer                      25\n",
       "84            Subscriber                   980\n",
       "              Customer                     140\n",
       "86            Subscriber                   351\n",
       "              Customer                      67\n",
       "\n",
       "[142 rows x 1 columns]"
      ]
     },
     "execution_count": 146,
     "metadata": {},
     "output_type": "execute_result"
    }
   ],
   "source": [
    "pd.DataFrame(trip.groupby(\"Start Station\")[\"Subscriber Type\"].value_counts())"
   ]
  },
  {
   "cell_type": "markdown",
   "metadata": {},
   "source": [
    "### Station Transistion Matrix & Popularity"
   ]
  },
  {
   "cell_type": "code",
   "execution_count": 185,
   "metadata": {
    "ExecuteTime": {
     "end_time": "2020-11-02T15:49:13.131678Z",
     "start_time": "2020-11-02T15:49:13.126332Z"
    }
   },
   "outputs": [],
   "source": [
    "def get_top_k_popular_stations(df, k):\n",
    "    \n",
    "    data=df.columns.values[np.argsort(-df.values, axis=1)]\n",
    "    cols = [\"#{}\".format(n) for n in np.arange(1, k+1)]\n",
    "    \n",
    "    return pd.DataFrame(data[:, 0:k], index= df.index, columns=cols)"
   ]
  },
  {
   "cell_type": "code",
   "execution_count": 207,
   "metadata": {
    "ExecuteTime": {
     "end_time": "2020-11-02T15:58:46.166509Z",
     "start_time": "2020-11-02T15:58:46.064538Z"
    }
   },
   "outputs": [
    {
     "data": {
      "text/html": [
       "<div>\n",
       "<style scoped>\n",
       "    .dataframe tbody tr th:only-of-type {\n",
       "        vertical-align: middle;\n",
       "    }\n",
       "\n",
       "    .dataframe tbody tr th {\n",
       "        vertical-align: top;\n",
       "    }\n",
       "\n",
       "    .dataframe thead th {\n",
       "        text-align: right;\n",
       "    }\n",
       "</style>\n",
       "<table border=\"1\" class=\"dataframe\">\n",
       "  <thead>\n",
       "    <tr style=\"text-align: right;\">\n",
       "      <th>Id</th>\n",
       "      <th>2</th>\n",
       "      <th>3</th>\n",
       "      <th>4</th>\n",
       "      <th>5</th>\n",
       "      <th>6</th>\n",
       "      <th>7</th>\n",
       "      <th>8</th>\n",
       "      <th>9</th>\n",
       "      <th>10</th>\n",
       "      <th>11</th>\n",
       "      <th>...</th>\n",
       "      <th>73</th>\n",
       "      <th>74</th>\n",
       "      <th>75</th>\n",
       "      <th>76</th>\n",
       "      <th>77</th>\n",
       "      <th>80</th>\n",
       "      <th>82</th>\n",
       "      <th>83</th>\n",
       "      <th>84</th>\n",
       "      <th>Start Total</th>\n",
       "    </tr>\n",
       "    <tr>\n",
       "      <th>Id</th>\n",
       "      <th></th>\n",
       "      <th></th>\n",
       "      <th></th>\n",
       "      <th></th>\n",
       "      <th></th>\n",
       "      <th></th>\n",
       "      <th></th>\n",
       "      <th></th>\n",
       "      <th></th>\n",
       "      <th></th>\n",
       "      <th></th>\n",
       "      <th></th>\n",
       "      <th></th>\n",
       "      <th></th>\n",
       "      <th></th>\n",
       "      <th></th>\n",
       "      <th></th>\n",
       "      <th></th>\n",
       "      <th></th>\n",
       "      <th></th>\n",
       "      <th></th>\n",
       "    </tr>\n",
       "  </thead>\n",
       "  <tbody>\n",
       "    <tr>\n",
       "      <th>2</th>\n",
       "      <td>77</td>\n",
       "      <td>282</td>\n",
       "      <td>1232</td>\n",
       "      <td>268</td>\n",
       "      <td>687</td>\n",
       "      <td>497</td>\n",
       "      <td>99</td>\n",
       "      <td>315</td>\n",
       "      <td>223</td>\n",
       "      <td>461</td>\n",
       "      <td>...</td>\n",
       "      <td>0</td>\n",
       "      <td>0</td>\n",
       "      <td>0</td>\n",
       "      <td>0</td>\n",
       "      <td>0</td>\n",
       "      <td>15</td>\n",
       "      <td>0</td>\n",
       "      <td>0</td>\n",
       "      <td>250</td>\n",
       "      <td>4968</td>\n",
       "    </tr>\n",
       "    <tr>\n",
       "      <th>3</th>\n",
       "      <td>209</td>\n",
       "      <td>189</td>\n",
       "      <td>41</td>\n",
       "      <td>25</td>\n",
       "      <td>46</td>\n",
       "      <td>33</td>\n",
       "      <td>8</td>\n",
       "      <td>13</td>\n",
       "      <td>57</td>\n",
       "      <td>43</td>\n",
       "      <td>...</td>\n",
       "      <td>0</td>\n",
       "      <td>0</td>\n",
       "      <td>0</td>\n",
       "      <td>0</td>\n",
       "      <td>0</td>\n",
       "      <td>6</td>\n",
       "      <td>0</td>\n",
       "      <td>0</td>\n",
       "      <td>21</td>\n",
       "      <td>774</td>\n",
       "    </tr>\n",
       "    <tr>\n",
       "      <th>4</th>\n",
       "      <td>1214</td>\n",
       "      <td>22</td>\n",
       "      <td>105</td>\n",
       "      <td>12</td>\n",
       "      <td>16</td>\n",
       "      <td>35</td>\n",
       "      <td>26</td>\n",
       "      <td>11</td>\n",
       "      <td>14</td>\n",
       "      <td>17</td>\n",
       "      <td>...</td>\n",
       "      <td>0</td>\n",
       "      <td>0</td>\n",
       "      <td>0</td>\n",
       "      <td>0</td>\n",
       "      <td>0</td>\n",
       "      <td>5</td>\n",
       "      <td>0</td>\n",
       "      <td>0</td>\n",
       "      <td>4</td>\n",
       "      <td>1958</td>\n",
       "    </tr>\n",
       "    <tr>\n",
       "      <th>5</th>\n",
       "      <td>307</td>\n",
       "      <td>14</td>\n",
       "      <td>17</td>\n",
       "      <td>29</td>\n",
       "      <td>22</td>\n",
       "      <td>29</td>\n",
       "      <td>17</td>\n",
       "      <td>7</td>\n",
       "      <td>13</td>\n",
       "      <td>21</td>\n",
       "      <td>...</td>\n",
       "      <td>0</td>\n",
       "      <td>0</td>\n",
       "      <td>0</td>\n",
       "      <td>0</td>\n",
       "      <td>0</td>\n",
       "      <td>8</td>\n",
       "      <td>0</td>\n",
       "      <td>0</td>\n",
       "      <td>4</td>\n",
       "      <td>562</td>\n",
       "    </tr>\n",
       "    <tr>\n",
       "      <th>6</th>\n",
       "      <td>614</td>\n",
       "      <td>54</td>\n",
       "      <td>11</td>\n",
       "      <td>20</td>\n",
       "      <td>86</td>\n",
       "      <td>36</td>\n",
       "      <td>29</td>\n",
       "      <td>120</td>\n",
       "      <td>46</td>\n",
       "      <td>34</td>\n",
       "      <td>...</td>\n",
       "      <td>0</td>\n",
       "      <td>0</td>\n",
       "      <td>0</td>\n",
       "      <td>0</td>\n",
       "      <td>0</td>\n",
       "      <td>68</td>\n",
       "      <td>0</td>\n",
       "      <td>0</td>\n",
       "      <td>110</td>\n",
       "      <td>1418</td>\n",
       "    </tr>\n",
       "  </tbody>\n",
       "</table>\n",
       "<p>5 rows × 72 columns</p>\n",
       "</div>"
      ],
      "text/plain": [
       "Id     2    3     4    5    6    7   8    9   10   11  ...  73  74  75  76  \\\n",
       "Id                                                     ...                   \n",
       "2     77  282  1232  268  687  497  99  315  223  461  ...   0   0   0   0   \n",
       "3    209  189    41   25   46   33   8   13   57   43  ...   0   0   0   0   \n",
       "4   1214   22   105   12   16   35  26   11   14   17  ...   0   0   0   0   \n",
       "5    307   14    17   29   22   29  17    7   13   21  ...   0   0   0   0   \n",
       "6    614   54    11   20   86   36  29  120   46   34  ...   0   0   0   0   \n",
       "\n",
       "Id  77  80  82  83   84  Start Total  \n",
       "Id                                    \n",
       "2    0  15   0   0  250         4968  \n",
       "3    0   6   0   0   21          774  \n",
       "4    0   5   0   0    4         1958  \n",
       "5    0   8   0   0    4          562  \n",
       "6    0  68   0   0  110         1418  \n",
       "\n",
       "[5 rows x 72 columns]"
      ]
     },
     "execution_count": 207,
     "metadata": {},
     "output_type": "execute_result"
    }
   ],
   "source": [
    "transition_matrix = []\n",
    "transition = trip.groupby(\"Start Station\")[\"End Station\"].value_counts()\n",
    "\n",
    "for x in all_stations_index:\n",
    "    transition_matrix.append(transition[x].reindex(all_stations_index, fill_value=0).tolist())\n",
    "    \n",
    "transition_matrix = pd.DataFrame(transition_matrix, index = all_stations_index, columns=all_stations_index)\n",
    "popular_stations = get_top_k_popular_stations(transition_matrix, 10)\n",
    "transition_matrix[\"Start Total\"] = transition_matrix.sum(axis=1)\n",
    "start_popular_station = transition_matrix[\"Start Total\"][:-1].sort_values(ascending=False).index.tolist()\n",
    "# If you want to check the correctness of the previous variable, uncomment the next line of code\n",
    "# transition_matrix[\"Start Total\"][:-1].sort_values(ascending=False)\n",
    "transition_matrix.loc[\"End Total\"] = transition_matrix.sum(axis=0)\n",
    "end_popular_station = transition_matrix.loc[\"End Total\"][:-1].sort_values(ascending=False).index.tolist()\n",
    "# If you want to check the correctness of the previous variable, uncomment the next line of code\n",
    "# transition_matrix.loc[\"End Total\"][:-1].sort_values(ascending=False)\n",
    "transition_matrix.head()"
   ]
  },
  {
   "cell_type": "code",
   "execution_count": 191,
   "metadata": {
    "ExecuteTime": {
     "end_time": "2020-11-02T15:49:53.573738Z",
     "start_time": "2020-11-02T15:49:53.561415Z"
    }
   },
   "outputs": [
    {
     "data": {
      "text/html": [
       "<div>\n",
       "<style scoped>\n",
       "    .dataframe tbody tr th:only-of-type {\n",
       "        vertical-align: middle;\n",
       "    }\n",
       "\n",
       "    .dataframe tbody tr th {\n",
       "        vertical-align: top;\n",
       "    }\n",
       "\n",
       "    .dataframe thead th {\n",
       "        text-align: right;\n",
       "    }\n",
       "</style>\n",
       "<table border=\"1\" class=\"dataframe\">\n",
       "  <thead>\n",
       "    <tr style=\"text-align: right;\">\n",
       "      <th></th>\n",
       "      <th>#1</th>\n",
       "      <th>#2</th>\n",
       "      <th>#3</th>\n",
       "      <th>#4</th>\n",
       "      <th>#5</th>\n",
       "      <th>#6</th>\n",
       "      <th>#7</th>\n",
       "      <th>#8</th>\n",
       "      <th>#9</th>\n",
       "      <th>#10</th>\n",
       "    </tr>\n",
       "    <tr>\n",
       "      <th>Id</th>\n",
       "      <th></th>\n",
       "      <th></th>\n",
       "      <th></th>\n",
       "      <th></th>\n",
       "      <th></th>\n",
       "      <th></th>\n",
       "      <th></th>\n",
       "      <th></th>\n",
       "      <th></th>\n",
       "      <th></th>\n",
       "    </tr>\n",
       "  </thead>\n",
       "  <tbody>\n",
       "    <tr>\n",
       "      <th>2</th>\n",
       "      <td>4</td>\n",
       "      <td>6</td>\n",
       "      <td>7</td>\n",
       "      <td>11</td>\n",
       "      <td>13</td>\n",
       "      <td>9</td>\n",
       "      <td>3</td>\n",
       "      <td>5</td>\n",
       "      <td>84</td>\n",
       "      <td>10</td>\n",
       "    </tr>\n",
       "    <tr>\n",
       "      <th>3</th>\n",
       "      <td>2</td>\n",
       "      <td>3</td>\n",
       "      <td>10</td>\n",
       "      <td>6</td>\n",
       "      <td>11</td>\n",
       "      <td>4</td>\n",
       "      <td>7</td>\n",
       "      <td>12</td>\n",
       "      <td>5</td>\n",
       "      <td>14</td>\n",
       "    </tr>\n",
       "    <tr>\n",
       "      <th>4</th>\n",
       "      <td>2</td>\n",
       "      <td>14</td>\n",
       "      <td>12</td>\n",
       "      <td>4</td>\n",
       "      <td>7</td>\n",
       "      <td>8</td>\n",
       "      <td>3</td>\n",
       "      <td>11</td>\n",
       "      <td>16</td>\n",
       "      <td>6</td>\n",
       "    </tr>\n",
       "    <tr>\n",
       "      <th>5</th>\n",
       "      <td>2</td>\n",
       "      <td>12</td>\n",
       "      <td>5</td>\n",
       "      <td>7</td>\n",
       "      <td>6</td>\n",
       "      <td>11</td>\n",
       "      <td>4</td>\n",
       "      <td>8</td>\n",
       "      <td>3</td>\n",
       "      <td>10</td>\n",
       "    </tr>\n",
       "    <tr>\n",
       "      <th>6</th>\n",
       "      <td>2</td>\n",
       "      <td>9</td>\n",
       "      <td>84</td>\n",
       "      <td>13</td>\n",
       "      <td>6</td>\n",
       "      <td>80</td>\n",
       "      <td>14</td>\n",
       "      <td>3</td>\n",
       "      <td>10</td>\n",
       "      <td>7</td>\n",
       "    </tr>\n",
       "    <tr>\n",
       "      <th>...</th>\n",
       "      <td>...</td>\n",
       "      <td>...</td>\n",
       "      <td>...</td>\n",
       "      <td>...</td>\n",
       "      <td>...</td>\n",
       "      <td>...</td>\n",
       "      <td>...</td>\n",
       "      <td>...</td>\n",
       "      <td>...</td>\n",
       "      <td>...</td>\n",
       "    </tr>\n",
       "    <tr>\n",
       "      <th>77</th>\n",
       "      <td>64</td>\n",
       "      <td>70</td>\n",
       "      <td>61</td>\n",
       "      <td>50</td>\n",
       "      <td>69</td>\n",
       "      <td>60</td>\n",
       "      <td>73</td>\n",
       "      <td>45</td>\n",
       "      <td>74</td>\n",
       "      <td>82</td>\n",
       "    </tr>\n",
       "    <tr>\n",
       "      <th>80</th>\n",
       "      <td>84</td>\n",
       "      <td>6</td>\n",
       "      <td>14</td>\n",
       "      <td>80</td>\n",
       "      <td>9</td>\n",
       "      <td>13</td>\n",
       "      <td>11</td>\n",
       "      <td>2</td>\n",
       "      <td>10</td>\n",
       "      <td>3</td>\n",
       "    </tr>\n",
       "    <tr>\n",
       "      <th>82</th>\n",
       "      <td>70</td>\n",
       "      <td>74</td>\n",
       "      <td>56</td>\n",
       "      <td>75</td>\n",
       "      <td>55</td>\n",
       "      <td>69</td>\n",
       "      <td>77</td>\n",
       "      <td>61</td>\n",
       "      <td>41</td>\n",
       "      <td>54</td>\n",
       "    </tr>\n",
       "    <tr>\n",
       "      <th>83</th>\n",
       "      <td>22</td>\n",
       "      <td>83</td>\n",
       "      <td>23</td>\n",
       "      <td>24</td>\n",
       "      <td>26</td>\n",
       "      <td>34</td>\n",
       "      <td>36</td>\n",
       "      <td>62</td>\n",
       "      <td>61</td>\n",
       "      <td>60</td>\n",
       "    </tr>\n",
       "    <tr>\n",
       "      <th>84</th>\n",
       "      <td>2</td>\n",
       "      <td>80</td>\n",
       "      <td>6</td>\n",
       "      <td>3</td>\n",
       "      <td>9</td>\n",
       "      <td>84</td>\n",
       "      <td>14</td>\n",
       "      <td>7</td>\n",
       "      <td>11</td>\n",
       "      <td>12</td>\n",
       "    </tr>\n",
       "  </tbody>\n",
       "</table>\n",
       "<p>71 rows × 10 columns</p>\n",
       "</div>"
      ],
      "text/plain": [
       "    #1  #2  #3  #4  #5  #6  #7  #8  #9  #10\n",
       "Id                                         \n",
       "2    4   6   7  11  13   9   3   5  84   10\n",
       "3    2   3  10   6  11   4   7  12   5   14\n",
       "4    2  14  12   4   7   8   3  11  16    6\n",
       "5    2  12   5   7   6  11   4   8   3   10\n",
       "6    2   9  84  13   6  80  14   3  10    7\n",
       "..  ..  ..  ..  ..  ..  ..  ..  ..  ..  ...\n",
       "77  64  70  61  50  69  60  73  45  74   82\n",
       "80  84   6  14  80   9  13  11   2  10    3\n",
       "82  70  74  56  75  55  69  77  61  41   54\n",
       "83  22  83  23  24  26  34  36  62  61   60\n",
       "84   2  80   6   3   9  84  14   7  11   12\n",
       "\n",
       "[71 rows x 10 columns]"
      ]
     },
     "execution_count": 191,
     "metadata": {},
     "output_type": "execute_result"
    }
   ],
   "source": [
    "popular_stations"
   ]
  },
  {
   "cell_type": "markdown",
   "metadata": {},
   "source": [
    "# Weather"
   ]
  },
  {
   "cell_type": "code",
   "execution_count": 5,
   "metadata": {
    "ExecuteTime": {
     "end_time": "2020-10-31T10:52:57.058962Z",
     "start_time": "2020-10-31T10:52:57.049805Z"
    }
   },
   "outputs": [
    {
     "data": {
      "text/plain": [
       "(1825, 24)"
      ]
     },
     "execution_count": 5,
     "metadata": {},
     "output_type": "execute_result"
    }
   ],
   "source": [
    "weather = pd.read_csv(\"data/weather_data.csv\")\n",
    "weather.shape"
   ]
  },
  {
   "cell_type": "code",
   "execution_count": 8,
   "metadata": {
    "ExecuteTime": {
     "end_time": "2020-10-31T10:53:16.951035Z",
     "start_time": "2020-10-31T10:53:16.934461Z"
    }
   },
   "outputs": [
    {
     "data": {
      "text/html": [
       "<div>\n",
       "<style scoped>\n",
       "    .dataframe tbody tr th:only-of-type {\n",
       "        vertical-align: middle;\n",
       "    }\n",
       "\n",
       "    .dataframe tbody tr th {\n",
       "        vertical-align: top;\n",
       "    }\n",
       "\n",
       "    .dataframe thead th {\n",
       "        text-align: right;\n",
       "    }\n",
       "</style>\n",
       "<table border=\"1\" class=\"dataframe\">\n",
       "  <thead>\n",
       "    <tr style=\"text-align: right;\">\n",
       "      <th></th>\n",
       "      <th>Date</th>\n",
       "      <th>Max TemperatureF</th>\n",
       "      <th>Mean TemperatureF</th>\n",
       "      <th>Min TemperatureF</th>\n",
       "      <th>Max Dew PointF</th>\n",
       "      <th>MeanDew PointF</th>\n",
       "      <th>Min DewpointF</th>\n",
       "      <th>Max Humidity</th>\n",
       "      <th>Mean Humidity</th>\n",
       "      <th>Min Humidity</th>\n",
       "      <th>...</th>\n",
       "      <th>Mean VisibilityMiles</th>\n",
       "      <th>Min VisibilityMiles</th>\n",
       "      <th>Max Wind SpeedMPH</th>\n",
       "      <th>Mean Wind SpeedMPH</th>\n",
       "      <th>Max Gust SpeedMPH</th>\n",
       "      <th>PrecipitationIn</th>\n",
       "      <th>CloudCover</th>\n",
       "      <th>Events</th>\n",
       "      <th>WindDirDegrees</th>\n",
       "      <th>Zip</th>\n",
       "    </tr>\n",
       "  </thead>\n",
       "  <tbody>\n",
       "    <tr>\n",
       "      <th>0</th>\n",
       "      <td>01/09/2014</td>\n",
       "      <td>83.0</td>\n",
       "      <td>70.0</td>\n",
       "      <td>57.0</td>\n",
       "      <td>58.0</td>\n",
       "      <td>56.0</td>\n",
       "      <td>52.0</td>\n",
       "      <td>86.0</td>\n",
       "      <td>64.0</td>\n",
       "      <td>42.0</td>\n",
       "      <td>...</td>\n",
       "      <td>10.0</td>\n",
       "      <td>8.0</td>\n",
       "      <td>16.0</td>\n",
       "      <td>7.0</td>\n",
       "      <td>20.0</td>\n",
       "      <td>0.0</td>\n",
       "      <td>0.0</td>\n",
       "      <td>NaN</td>\n",
       "      <td>290.0</td>\n",
       "      <td>94107</td>\n",
       "    </tr>\n",
       "    <tr>\n",
       "      <th>1</th>\n",
       "      <td>02/09/2014</td>\n",
       "      <td>72.0</td>\n",
       "      <td>66.0</td>\n",
       "      <td>60.0</td>\n",
       "      <td>58.0</td>\n",
       "      <td>57.0</td>\n",
       "      <td>55.0</td>\n",
       "      <td>84.0</td>\n",
       "      <td>73.0</td>\n",
       "      <td>61.0</td>\n",
       "      <td>...</td>\n",
       "      <td>10.0</td>\n",
       "      <td>7.0</td>\n",
       "      <td>21.0</td>\n",
       "      <td>8.0</td>\n",
       "      <td>NaN</td>\n",
       "      <td>0.0</td>\n",
       "      <td>5.0</td>\n",
       "      <td>NaN</td>\n",
       "      <td>290.0</td>\n",
       "      <td>94107</td>\n",
       "    </tr>\n",
       "    <tr>\n",
       "      <th>2</th>\n",
       "      <td>03/09/2014</td>\n",
       "      <td>76.0</td>\n",
       "      <td>69.0</td>\n",
       "      <td>61.0</td>\n",
       "      <td>57.0</td>\n",
       "      <td>56.0</td>\n",
       "      <td>55.0</td>\n",
       "      <td>84.0</td>\n",
       "      <td>69.0</td>\n",
       "      <td>53.0</td>\n",
       "      <td>...</td>\n",
       "      <td>10.0</td>\n",
       "      <td>10.0</td>\n",
       "      <td>21.0</td>\n",
       "      <td>8.0</td>\n",
       "      <td>24.0</td>\n",
       "      <td>0.0</td>\n",
       "      <td>4.0</td>\n",
       "      <td>NaN</td>\n",
       "      <td>276.0</td>\n",
       "      <td>94107</td>\n",
       "    </tr>\n",
       "    <tr>\n",
       "      <th>3</th>\n",
       "      <td>04/09/2014</td>\n",
       "      <td>74.0</td>\n",
       "      <td>68.0</td>\n",
       "      <td>61.0</td>\n",
       "      <td>57.0</td>\n",
       "      <td>57.0</td>\n",
       "      <td>56.0</td>\n",
       "      <td>84.0</td>\n",
       "      <td>71.0</td>\n",
       "      <td>57.0</td>\n",
       "      <td>...</td>\n",
       "      <td>10.0</td>\n",
       "      <td>8.0</td>\n",
       "      <td>22.0</td>\n",
       "      <td>8.0</td>\n",
       "      <td>25.0</td>\n",
       "      <td>0.0</td>\n",
       "      <td>5.0</td>\n",
       "      <td>NaN</td>\n",
       "      <td>301.0</td>\n",
       "      <td>94107</td>\n",
       "    </tr>\n",
       "    <tr>\n",
       "      <th>4</th>\n",
       "      <td>05/09/2014</td>\n",
       "      <td>72.0</td>\n",
       "      <td>66.0</td>\n",
       "      <td>60.0</td>\n",
       "      <td>57.0</td>\n",
       "      <td>56.0</td>\n",
       "      <td>54.0</td>\n",
       "      <td>84.0</td>\n",
       "      <td>71.0</td>\n",
       "      <td>57.0</td>\n",
       "      <td>...</td>\n",
       "      <td>9.0</td>\n",
       "      <td>7.0</td>\n",
       "      <td>18.0</td>\n",
       "      <td>8.0</td>\n",
       "      <td>32.0</td>\n",
       "      <td>0.0</td>\n",
       "      <td>4.0</td>\n",
       "      <td>NaN</td>\n",
       "      <td>309.0</td>\n",
       "      <td>94107</td>\n",
       "    </tr>\n",
       "  </tbody>\n",
       "</table>\n",
       "<p>5 rows × 24 columns</p>\n",
       "</div>"
      ],
      "text/plain": [
       "         Date  Max TemperatureF  Mean TemperatureF  Min TemperatureF  \\\n",
       "0  01/09/2014              83.0               70.0              57.0   \n",
       "1  02/09/2014              72.0               66.0              60.0   \n",
       "2  03/09/2014              76.0               69.0              61.0   \n",
       "3  04/09/2014              74.0               68.0              61.0   \n",
       "4  05/09/2014              72.0               66.0              60.0   \n",
       "\n",
       "   Max Dew PointF  MeanDew PointF  Min DewpointF  Max Humidity  Mean Humidity  \\\n",
       "0            58.0            56.0           52.0          86.0           64.0   \n",
       "1            58.0            57.0           55.0          84.0           73.0   \n",
       "2            57.0            56.0           55.0          84.0           69.0   \n",
       "3            57.0            57.0           56.0          84.0           71.0   \n",
       "4            57.0            56.0           54.0          84.0           71.0   \n",
       "\n",
       "   Min Humidity  ...  Mean VisibilityMiles  Min VisibilityMiles  \\\n",
       "0          42.0  ...                  10.0                  8.0   \n",
       "1          61.0  ...                  10.0                  7.0   \n",
       "2          53.0  ...                  10.0                 10.0   \n",
       "3          57.0  ...                  10.0                  8.0   \n",
       "4          57.0  ...                   9.0                  7.0   \n",
       "\n",
       "   Max Wind SpeedMPH  Mean Wind SpeedMPH  Max Gust SpeedMPH  PrecipitationIn  \\\n",
       "0               16.0                 7.0               20.0              0.0   \n",
       "1               21.0                 8.0                NaN              0.0   \n",
       "2               21.0                 8.0               24.0              0.0   \n",
       "3               22.0                 8.0               25.0              0.0   \n",
       "4               18.0                 8.0               32.0              0.0   \n",
       "\n",
       "   CloudCover  Events  WindDirDegrees    Zip  \n",
       "0         0.0     NaN           290.0  94107  \n",
       "1         5.0     NaN           290.0  94107  \n",
       "2         4.0     NaN           276.0  94107  \n",
       "3         5.0     NaN           301.0  94107  \n",
       "4         4.0     NaN           309.0  94107  \n",
       "\n",
       "[5 rows x 24 columns]"
      ]
     },
     "execution_count": 8,
     "metadata": {},
     "output_type": "execute_result"
    }
   ],
   "source": [
    "weather.head()"
   ]
  },
  {
   "cell_type": "code",
   "execution_count": null,
   "metadata": {},
   "outputs": [],
   "source": []
  }
 ],
 "metadata": {
  "kernelspec": {
   "display_name": "Python 3",
   "language": "python",
   "name": "python3"
  },
  "language_info": {
   "codemirror_mode": {
    "name": "ipython",
    "version": 3
   },
   "file_extension": ".py",
   "mimetype": "text/x-python",
   "name": "python",
   "nbconvert_exporter": "python",
   "pygments_lexer": "ipython3",
   "version": "3.8.5"
  },
  "toc": {
   "base_numbering": 1,
   "nav_menu": {},
   "number_sections": true,
   "sideBar": true,
   "skip_h1_title": false,
   "title_cell": "Table of Contents",
   "title_sidebar": "Contents",
   "toc_cell": false,
   "toc_position": {},
   "toc_section_display": true,
   "toc_window_display": true
  }
 },
 "nbformat": 4,
 "nbformat_minor": 4
}
